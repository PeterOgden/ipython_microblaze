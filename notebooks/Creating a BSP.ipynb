{
 "cells": [
  {
   "cell_type": "markdown",
   "metadata": {},
   "source": [
    "# Creating a BSP for the `ipython_microblaze` Library\n",
    "\n",
    "Board support packages or BSPs are foundation of the `ipython_microblaze` ecosystem. BSPs live in the `$INSTALL/bsp` directory and two are provided by default for the PYNQ PMOD and Arduino systems. A BSP combines a set of header files, the core runtime libraries and a linker script to assemble the image.\n",
    "\n",
    "Xilinx SDK is used to create BSPs however some changes to the default settings are needed to make things work with ipython_microblaze. To simplify the process a script is created that will create bsps in a suitable form. First the HDF file needs to be exported from Vivado using the _Export -> Export Hardware_ menu command. The HDF file can then be passed to the `bsp_gen/generate_bsps.sh` script included in this repository. This script has been tested with SDK 2016.1 and there are no guarantees with any other version.\n",
    "\n",
    "Assuming the script works, the output should a `bsp` directory in the current working directory inside of which is a directory for each microblaze in the design. These directories are the ipython_microblaze BSPs and can be copied into the bsp location mentioned above.\n",
    "\n",
    "In PYNQ microblaze subsystems are described by an `mb_info` dictionary. If we load the base overlay bitstream but without the  `BaseOverlay` class we can see how this works for any design."
   ]
  },
  {
   "cell_type": "code",
   "execution_count": 1,
   "metadata": {},
   "outputs": [],
   "source": [
    "import pynq\n",
    "\n",
    "base = pynq.Overlay('base.bit')"
   ]
  },
  {
   "cell_type": "markdown",
   "metadata": {},
   "source": [
    "Microblaze subsystems are determined by hierarchy. In this case the `iop1`, `iop2` and `iop3` hierarchies are instances of `MicroblazeHierarchy` which will expose the `mb_info`"
   ]
  },
  {
   "cell_type": "code",
   "execution_count": 2,
   "metadata": {},
   "outputs": [
    {
     "data": {
      "text/plain": [
       "{'intr_ack_name': 'mb_iop1_intr_ack',\n",
       " 'intr_pin_name': 'iop1/dff_en_reset_0/q',\n",
       " 'ip_name': 'iop1/mb_bram_ctrl',\n",
       " 'mbtype': 'Unknown',\n",
       " 'rst_name': 'mb_iop1_reset'}"
      ]
     },
     "execution_count": 2,
     "metadata": {},
     "output_type": "execute_result"
    }
   ],
   "source": [
    "base.iop1.mb_info"
   ]
  },
  {
   "cell_type": "markdown",
   "metadata": {},
   "source": [
    "The ipython_microblaze library uses the `mbtype` entry in this dict to determine which BSP to load so we can select our BSP by changing it. In this case we are going to use the built in `Pmod` BSP."
   ]
  },
  {
   "cell_type": "code",
   "execution_count": 3,
   "metadata": {},
   "outputs": [],
   "source": [
    "base.iop1.mb_info['mbtype'] = 'Pmod'"
   ]
  },
  {
   "cell_type": "markdown",
   "metadata": {},
   "source": [
    "Now we can import the `ipython_microblaze` library and use the microblaze from Jupyter"
   ]
  },
  {
   "cell_type": "code",
   "execution_count": 4,
   "metadata": {},
   "outputs": [
    {
     "data": {
      "application/javascript": [
       "\n",
       "require(['notebook/js/codecell'], function(codecell) {\n",
       "  codecell.CodeCell.options_default.highlight_modes['magic_text/x-csrc'] = {'reg':[/^%%microblaze/]};\n",
       "  Jupyter.notebook.events.one('kernel_ready.Kernel', function(){\n",
       "      Jupyter.notebook.get_cells().map(function(cell){\n",
       "          if (cell.cell_type == 'code'){ cell.auto_highlight(); } }) ;\n",
       "  });\n",
       "});\n"
      ]
     },
     "metadata": {},
     "output_type": "display_data"
    }
   ],
   "source": [
    "import ipython_microblaze"
   ]
  },
  {
   "cell_type": "code",
   "execution_count": 5,
   "metadata": {},
   "outputs": [
    {
     "data": {
      "text/html": [
       "<pre>Compile SUCCEEDED</pre>"
      ],
      "text/plain": [
       "<IPython.core.display.HTML object>"
      ]
     },
     "execution_count": 5,
     "metadata": {},
     "output_type": "execute_result"
    }
   ],
   "source": [
    "%%microblaze base.iop1 hello_world\n",
    "#include <xil_io.h>\n",
    "\n",
    "int main() {\n",
    "    print(\"Hello, World!\\n\");\n",
    "}"
   ]
  },
  {
   "cell_type": "code",
   "execution_count": 6,
   "metadata": {},
   "outputs": [
    {
     "data": {
      "text/plain": [
       "b'Hello, World!\\n'"
      ]
     },
     "execution_count": 6,
     "metadata": {},
     "output_type": "execute_result"
    }
   ],
   "source": [
    "hello_world.stream.read()"
   ]
  }
 ],
 "metadata": {
  "kernelspec": {
   "display_name": "Python 3",
   "language": "python",
   "name": "python3"
  },
  "language_info": {
   "codemirror_mode": {
    "name": "ipython",
    "version": 3
   },
   "file_extension": ".py",
   "mimetype": "text/x-python",
   "name": "python",
   "nbconvert_exporter": "python",
   "pygments_lexer": "ipython3",
   "version": "3.6.0"
  }
 },
 "nbformat": 4,
 "nbformat_minor": 2
}
