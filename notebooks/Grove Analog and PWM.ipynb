{
 "cells": [
  {
   "cell_type": "markdown",
   "metadata": {},
   "source": [
    "# Grove Analog ports and PWM\n",
    "\n",
    "The arduino shield has dedicated analog ports which can be accessed through the `analog.h` header which is included by `mbio.h`. This driver can only be used with the A1 to A4 ports on the PYNQ shield and not at all using the PMOD interface. First we'll load the library and initialise the base overlay."
   ]
  },
  {
   "cell_type": "code",
   "execution_count": 1,
   "metadata": {},
   "outputs": [
    {
     "data": {
      "application/javascript": [
       "\n",
       "require(['notebook/js/codecell'], function(codecell) {\n",
       "  codecell.CodeCell.options_default.highlight_modes['magic_text/x-csrc'] = {'reg':[/^%%microblaze/]};\n",
       "  Jupyter.notebook.events.one('kernel_ready.Kernel', function(){\n",
       "      Jupyter.notebook.get_cells().map(function(cell){\n",
       "          if (cell.cell_type == 'code'){ cell.auto_highlight(); } }) ;\n",
       "  });\n",
       "});\n"
      ]
     },
     "metadata": {},
     "output_type": "display_data"
    }
   ],
   "source": [
    "import ipython_microblaze as ipmb\n",
    "\n",
    "from pynq.overlays.base import BaseOverlay\n",
    "base = BaseOverlay('base.bit')"
   ]
  },
  {
   "cell_type": "markdown",
   "metadata": {},
   "source": [
    "Following the other APIs the Analog API consists of the following functions\n",
    "\n",
    "```C\n",
    "analog analog_open_iop_grove(unsigned char port, unsigned char wire);\n",
    "analog analog_open_iop_pin(unsigned char pin);\n",
    "\n",
    "analog analog_open(int channel);\n",
    "int analog_read_raw(analog);\n",
    "float analog_read(analog);\n",
    "\n",
    "int analog_range(analog);\n",
    "float analog_vref(analog);\n",
    "```\n",
    "\n",
    "This peripheral follows the format of many in that upon connecting the pin, a handle is returned which can be used for reading the values back. `analog_read_raw` returns a number between 0 and MAX where MAX can be found using `analog_range`. `analog_read` will do the conversion to the voltage for you.\n",
    "\n",
    "For a simple example, let's create a program which reads the value from the A1 port and sends it back to python."
   ]
  },
  {
   "cell_type": "code",
   "execution_count": 2,
   "metadata": {},
   "outputs": [],
   "source": [
    "%%microblaze_functions base.ARDUINO\n",
    "#include <iop.h>\n",
    "\n",
    "int analog_test() {\n",
    "    analog conn = analog_open_iop_grove(A1, 0);\n",
    "    int val = analog_read_raw(conn);\n",
    "    return val;\n",
    "}"
   ]
  },
  {
   "cell_type": "code",
   "execution_count": 3,
   "metadata": {},
   "outputs": [
    {
     "name": "stdout",
     "output_type": "stream",
     "text": [
      "64978\n"
     ]
    }
   ],
   "source": [
    "import struct\n",
    "print(analog_test())\n",
    "\n",
    "analog_test.reset()"
   ]
  },
  {
   "cell_type": "markdown",
   "metadata": {},
   "source": [
    "Next we can introduce the timer and PWM API which generates a regular stream of pulses on an output pin.\n",
    "\n",
    "```C\n",
    "timer timer_open_iop_pin(unsigned char pin);\n",
    "timer timer_open_iop_grove(unsigned char port, unsigned char wire);\n",
    "\n",
    "timer timer_open(int index);\n",
    "void timer_delay_us(timer, int channel, int usdelay);\n",
    "void timer_pwm_generate(timer, int pulse, int period);\n",
    "void timer_pwm_stop(timer);\n",
    "```\n",
    "\n",
    "This driver uses the same idiom as the `analog` driver. The PWM has some limitations to be aware of - for the Arduino output it can only be connected to digital pins D3, D5, D6, D9, D10 and D11 however all of these outputs can be used in parallel. For the PYNQ shield this restricts single-wire Grove peripherals to the G2, G4 and G6 connectors.\n",
    "\n",
    "The `timer_pwm_generate` function starts the PWM generator and set the period and pulse width measured in cycles. `timer_pwm_stop` drives the output at 0.\n",
    "\n",
    "For an example we can connect a sensor to A1 and an output such as an LED to G2 and use that to represent the current value of the input."
   ]
  },
  {
   "cell_type": "code",
   "execution_count": 4,
   "metadata": {},
   "outputs": [],
   "source": [
    "%%microblaze_functions base.ARDUINO\n",
    "#include <iop.h>\n",
    "\n",
    "void pwm_test() {\n",
    "    analog input = analog_open_iop_grove(A1, 0);\n",
    "    timer output = timer_open_iop_grove(G2, 0);\n",
    "    int range = analog_range(input);\n",
    "    int val = 0;\n",
    "    while (1) {\n",
    "        val = analog_read_raw(input);\n",
    "        timer_pwm_generate(output, val, range);\n",
    "    }\n",
    "}"
   ]
  },
  {
   "cell_type": "code",
   "execution_count": 5,
   "metadata": {},
   "outputs": [],
   "source": [
    "pwm_test()"
   ]
  },
  {
   "cell_type": "markdown",
   "metadata": {},
   "source": [
    "The PWM library can also be used on a PMOD output although here there is only a single generator but it can be routed to any of the output pins. This example ramps an LED attached to G2"
   ]
  },
  {
   "cell_type": "code",
   "execution_count": 6,
   "metadata": {},
   "outputs": [],
   "source": [
    "%%microblaze_functions base.PMODA\n",
    "#include <iop.h>\n",
    "\n",
    "void pwm_test_pmod() {\n",
    "    timer output = timer_open_iop_grove(G2, 0);\n",
    "    while (1) {\n",
    "        for (int i = 0; i < 100; ++i) {\n",
    "            timer_pwm_generate(output, i, 100);\n",
    "            for (int j = 0; j < 1000000; ++j);\n",
    "        }\n",
    "    }\n",
    "}"
   ]
  },
  {
   "cell_type": "code",
   "execution_count": 7,
   "metadata": {},
   "outputs": [],
   "source": [
    "pwm_test_pmod()"
   ]
  }
 ],
 "metadata": {
  "kernelspec": {
   "display_name": "Python 3",
   "language": "python",
   "name": "python3"
  },
  "language_info": {
   "codemirror_mode": {
    "name": "ipython",
    "version": 3
   },
   "file_extension": ".py",
   "mimetype": "text/x-python",
   "name": "python",
   "nbconvert_exporter": "python",
   "pygments_lexer": "ipython3",
   "version": "3.6.0"
  }
 },
 "nbformat": 4,
 "nbformat_minor": 2
}
