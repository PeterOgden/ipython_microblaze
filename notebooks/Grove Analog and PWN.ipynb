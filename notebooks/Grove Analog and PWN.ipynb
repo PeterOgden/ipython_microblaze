{
 "cells": [
  {
   "cell_type": "markdown",
   "metadata": {},
   "source": [
    "# Grove Analog ports and PWM\n",
    "\n",
    "The arduino shield has dedicated analog ports which can be accessed through the `Analog` peripheral. This peripheral can only be used with the A1 to A4 ports on the PYNQ shield and not at all using the PMOD interface. First we'll load the library, initialise the base overlay and print the API for the `Analog` peripheral."
   ]
  },
  {
   "cell_type": "code",
   "execution_count": 1,
   "metadata": {},
   "outputs": [
    {
     "data": {
      "application/javascript": [
       "\n",
       "require(['notebook/js/codecell'], function(codecell) {\n",
       "  codecell.CodeCell.options_default.highlight_modes['magic_text/x-csrc'] = {'reg':[/^%%microblaze/]};\n",
       "  Jupyter.notebook.events.one('kernel_ready.Kernel', function(){\n",
       "      Jupyter.notebook.get_cells().map(function(cell){\n",
       "          if (cell.cell_type == 'code'){ cell.auto_highlight(); } }) ;\n",
       "  });\n",
       "});\n"
      ]
     },
     "metadata": {},
     "output_type": "display_data"
    },
    {
     "name": "stdout",
     "output_type": "stream",
     "text": [
      "\n",
      "typedef int analog;\n",
      "\n",
      "analog analog_connect(unsigned char port, unsigned char wire);\n",
      "int analog_read_raw(analog port);\n",
      "float analog_read(analog port);\n",
      "\n",
      "\n"
     ]
    }
   ],
   "source": [
    "import ipython_microblaze as ipmb\n",
    "\n",
    "from pynq.overlays.base import BaseOverlay\n",
    "base = BaseOverlay('base.bit')\n",
    "\n",
    "print(ipmb.Analog.declaration)"
   ]
  },
  {
   "cell_type": "markdown",
   "metadata": {},
   "source": [
    "This peripheral follows the format of many in that upon connecting the pin, a handle is returned which can be used for reading the values back. `analog_read_raw` returns a number between 0 and 65536 where 65536 is equivalent to 3.3 Volts. `analog_read` does the conversion to Volts internally.\n",
    "\n",
    "For a simple example, let's create a program which reads the value from the A1 port and sends it back to python."
   ]
  },
  {
   "cell_type": "code",
   "execution_count": 3,
   "metadata": {},
   "outputs": [
    {
     "data": {
      "text/html": [
       "<pre>Compile SUCCEEDED</pre>"
      ],
      "text/plain": [
       "<IPython.core.display.HTML object>"
      ]
     },
     "execution_count": 3,
     "metadata": {},
     "output_type": "execute_result"
    }
   ],
   "source": [
    "%%microblaze base.ARDUINO analog_test ipmb.Analog\n",
    "#include <unistd.h>\n",
    "\n",
    "int main() {\n",
    "    analog conn = analog_connect(A1, 0);\n",
    "    int val = analog_read_raw(conn);\n",
    "    write(STDOUT_FILENO, &val, 4);\n",
    "}"
   ]
  },
  {
   "cell_type": "code",
   "execution_count": 8,
   "metadata": {},
   "outputs": [],
   "source": [
    "import struct\n",
    "struct.unpack('I', analog_test.stream.read())\n",
    "\n",
    "analog_test.reset()"
   ]
  },
  {
   "cell_type": "markdown",
   "metadata": {},
   "source": [
    "Next we can introduce the PWM Peripheral which generates a regular stream of pulses on an output pin."
   ]
  },
  {
   "cell_type": "code",
   "execution_count": 5,
   "metadata": {},
   "outputs": [
    {
     "name": "stdout",
     "output_type": "stream",
     "text": [
      "\n",
      "typedef int pwm;\n",
      "\n",
      "pwm pwm_connect(unsigned char port, unsigned char wire);\n",
      "void pwm_generate_cycles(pwm timer, int period, int pulse);\n",
      "void pwm_generate_us(pwm timer, int period, int pulse);\n",
      "void pwm_stop(pwm timer);\n",
      "\n"
     ]
    }
   ],
   "source": [
    "print(ipmb.PWM.declaration)"
   ]
  },
  {
   "cell_type": "markdown",
   "metadata": {},
   "source": [
    "This peripheral driver uses the same idiom as the `Analog` driver. The PWM has some limitations to be aware of - for the Arduino output it can only be connected to digital pins D3, D5, D6, D9, D10 and D11 however all of these outputs can be used in parallel. For the PYNQ shield this restricts single-wire Grove peripherals to the G2, G4 and G6 connectors.\n",
    "\n",
    "The `pwm_generate_cycles` and `pwm_generate_us` functions start the PWM generator and set the period and pulse width - the pulse width is given in the same units as the period. `pwm_stop` drives the output at 0.\n",
    "\n",
    "For an example we can connect a sensor to A1 and an output such as an LED to G2 and use that to represent the current value of the input."
   ]
  },
  {
   "cell_type": "code",
   "execution_count": 9,
   "metadata": {},
   "outputs": [
    {
     "data": {
      "text/html": [
       "<pre>Compile SUCCEEDED</pre>"
      ],
      "text/plain": [
       "<IPython.core.display.HTML object>"
      ]
     },
     "execution_count": 9,
     "metadata": {},
     "output_type": "execute_result"
    }
   ],
   "source": [
    "%%microblaze base.ARDUINO pwm_test ipmb.PWM ipmb.Analog\n",
    "\n",
    "int main() {\n",
    "    analog input = analog_connect(A1, 0);\n",
    "    pwm output = pwm_connect(G2, 0);\n",
    "    int val = analog_read(input);\n",
    "    while (1) {\n",
    "        val = analog_read_raw(input);\n",
    "        pwm_generate_cycles(output, 65536, val);\n",
    "    }\n",
    "}"
   ]
  },
  {
   "cell_type": "code",
   "execution_count": 10,
   "metadata": {},
   "outputs": [],
   "source": [
    "pwm_test.reset()"
   ]
  },
  {
   "cell_type": "markdown",
   "metadata": {},
   "source": [
    "The PWM library can also be used on a PMOD output although here there is only a single generator but it can be routed to any of the output pins. This example ramps an LED attached to G2"
   ]
  },
  {
   "cell_type": "code",
   "execution_count": 11,
   "metadata": {},
   "outputs": [
    {
     "data": {
      "text/html": [
       "<pre>Compile SUCCEEDED</pre>"
      ],
      "text/plain": [
       "<IPython.core.display.HTML object>"
      ]
     },
     "execution_count": 12,
     "metadata": {},
     "output_type": "execute_result"
    }
   ],
   "source": [
    "%%microblaze base.PMODA pwm_test ipmb.PWM\n",
    "\n",
    "#include <pmod.h>\n",
    "#include <unistd.h>\n",
    "\n",
    "int main() {\n",
    "    pwm output = pwm_connect(G2, 0);\n",
    "    while (1) {\n",
    "        for (int i = 0; i < 100; ++i) {\n",
    "            pwm_generate_cycles(output, 100, i);\n",
    "            for (int j = 0; j < 1000000; ++j);\n",
    "            \n",
    "        }\n",
    "    }\n",
    "}"
   ]
  },
  {
   "cell_type": "code",
   "execution_count": 12,
   "metadata": {},
   "outputs": [],
   "source": [
    "pwm_test.reset()"
   ]
  },
  {
   "cell_type": "code",
   "execution_count": null,
   "metadata": {},
   "outputs": [],
   "source": []
  }
 ],
 "metadata": {
  "kernelspec": {
   "display_name": "Python 3",
   "language": "python",
   "name": "python3"
  },
  "language_info": {
   "codemirror_mode": {
    "name": "ipython",
    "version": 3
   },
   "file_extension": ".py",
   "mimetype": "text/x-python",
   "name": "python",
   "nbconvert_exporter": "python",
   "pygments_lexer": "ipython3",
   "version": "3.6.0"
  }
 },
 "nbformat": 4,
 "nbformat_minor": 2
}
