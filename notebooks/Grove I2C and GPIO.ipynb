{
 "cells": [
  {
   "cell_type": "markdown",
   "metadata": {},
   "source": [
    "# Grove I2C and GPIO Libraries\n",
    "\n",
    "To make interacting with Grove peripherals easier there are two Libraries that can be used: `ipython_microblaze.I2C` and `ipython_microblaze.GPIO`. These libraries provide a uniform API regardless of what connection is used. Please note, there are some limitations on what peripherals can be connected to the various connectors. For the PYNQ Arduino shield only the dedicated I2C connectors can be used for I2C and any of the G1 to G7 connections used for GPIO. For the PYNQ PMOD-Grove adapter, all of the ports can be used for GPIO but on G3 and G4 can be used for I2C.\n",
    "\n",
    "To start with we'll load the `ipython_microblaze` library and have a look at the API for the two devices."
   ]
  },
  {
   "cell_type": "code",
   "execution_count": 1,
   "metadata": {},
   "outputs": [
    {
     "data": {
      "application/javascript": [
       "\n",
       "require(['notebook/js/codecell'], function(codecell) {\n",
       "  codecell.CodeCell.options_default.highlight_modes['magic_text/x-csrc'] = {'reg':[/^%%microblaze/]};\n",
       "  Jupyter.notebook.events.one('kernel_ready.Kernel', function(){\n",
       "      Jupyter.notebook.get_cells().map(function(cell){\n",
       "          if (cell.cell_type == 'code'){ cell.auto_highlight(); } }) ;\n",
       "  });\n",
       "});\n"
      ]
     },
     "metadata": {},
     "output_type": "display_data"
    }
   ],
   "source": [
    "import ipython_microblaze as ipmb"
   ]
  },
  {
   "cell_type": "code",
   "execution_count": 2,
   "metadata": {},
   "outputs": [
    {
     "name": "stdout",
     "output_type": "stream",
     "text": [
      "\n",
      "void i2c_connect(unsigned char port);\n",
      "void i2c_read(unsigned char address, unsigned char* data, int length);\n",
      "void i2c_write(unsigned char address, unsigned char* data, int length);\n",
      "\n"
     ]
    }
   ],
   "source": [
    "print(ipmb.I2C.declaration)"
   ]
  },
  {
   "cell_type": "code",
   "execution_count": 3,
   "metadata": {},
   "outputs": [
    {
     "name": "stdout",
     "output_type": "stream",
     "text": [
      "\n",
      "\n",
      "#define GPIO_IN 1\n",
      "#define GPIO_OUT 0\n",
      "\n",
      "typedef int gpio;\n",
      "\n",
      "gpio gpio_connect(unsigned char port, unsigned char wire);\n",
      "void gpio_write(gpio channel, unsigned char value);\n",
      "unsigned char gpio_read(gpio channel);\n",
      "void gpio_set_direction(gpio channel, unsigned char direction);\n",
      "\n",
      "\n"
     ]
    }
   ],
   "source": [
    "print(ipmb.GPIO.declaration)"
   ]
  },
  {
   "cell_type": "markdown",
   "metadata": {},
   "source": [
    "## Using the GPIO\n",
    "\n",
    "The Grove connector has two GPIO pins which can be accessed using channels 0 and 1 in the library. First we need to load the overlay and then we can read the value of the two pins back to python. The GPIO library requires creating instances for each pin so two instances are required to access both data pins in a Grove connector."
   ]
  },
  {
   "cell_type": "code",
   "execution_count": 4,
   "metadata": {},
   "outputs": [],
   "source": [
    "from pynq.overlays.base import BaseOverlay\n",
    "base = BaseOverlay('base.bit')"
   ]
  },
  {
   "cell_type": "code",
   "execution_count": 5,
   "metadata": {},
   "outputs": [
    {
     "data": {
      "text/html": [
       "<pre>Compile SUCCEEDED</pre>"
      ],
      "text/plain": [
       "<IPython.core.display.HTML object>"
      ]
     },
     "execution_count": 5,
     "metadata": {},
     "output_type": "execute_result"
    }
   ],
   "source": [
    "%%microblaze base.PMODA gpio_read ipmb.GPIO\n",
    "#include <unistd.h>\n",
    "\n",
    "int main() {\n",
    "    unsigned char data[2];\n",
    "    gpio g1a = gpio_connect(G1, 0);\n",
    "    gpio g1b = gpio_connect(G1, 1);\n",
    "    gpio_set_direction(g1a, GPIO_IN);\n",
    "    gpio_set_direction(g1b, GPIO_IN);\n",
    "    data[0] = gpio_read(g1a);\n",
    "    data[1] = gpio_read(g1b);\n",
    "    write(STDOUT_FILENO, data, 2);\n",
    "}"
   ]
  },
  {
   "cell_type": "code",
   "execution_count": 6,
   "metadata": {},
   "outputs": [
    {
     "data": {
      "text/plain": [
       "b'\\x01\\x00'"
      ]
     },
     "execution_count": 6,
     "metadata": {},
     "output_type": "execute_result"
    }
   ],
   "source": [
    "gpio_read.stream.read()"
   ]
  },
  {
   "cell_type": "markdown",
   "metadata": {},
   "source": [
    "Likewise the same can be done for an Arduino-attached Grove device"
   ]
  },
  {
   "cell_type": "code",
   "execution_count": 7,
   "metadata": {},
   "outputs": [
    {
     "data": {
      "text/html": [
       "<pre>Compile SUCCEEDED</pre>"
      ],
      "text/plain": [
       "<IPython.core.display.HTML object>"
      ]
     },
     "execution_count": 7,
     "metadata": {},
     "output_type": "execute_result"
    }
   ],
   "source": [
    "%%microblaze base.ARDUINO gpio_read_a ipmb.GPIO\n",
    "#include <unistd.h>\n",
    "\n",
    "int main() {\n",
    "    unsigned char data[2];\n",
    "    gpio g1a = gpio_connect(G1, 0);\n",
    "    gpio g1b = gpio_connect(G1, 1);\n",
    "    gpio_set_direction(g1a, GPIO_IN);\n",
    "    gpio_set_direction(g1b, GPIO_IN);\n",
    "    data[0] = gpio_read(g1a);\n",
    "    data[1] = gpio_read(g1b);\n",
    "    write(STDOUT_FILENO, data, 2);\n",
    "}"
   ]
  },
  {
   "cell_type": "code",
   "execution_count": 8,
   "metadata": {},
   "outputs": [
    {
     "data": {
      "text/plain": [
       "b'\\x01\\x00'"
      ]
     },
     "execution_count": 8,
     "metadata": {},
     "output_type": "execute_result"
    }
   ],
   "source": [
    "gpio_read_a.stream.read()"
   ]
  },
  {
   "cell_type": "code",
   "execution_count": 9,
   "metadata": {},
   "outputs": [],
   "source": [
    "gpio_read.reset()\n",
    "gpio_read_a.reset()"
   ]
  },
  {
   "cell_type": "markdown",
   "metadata": {},
   "source": [
    "## Using I2C\n",
    "\n",
    "The I2C peripherals can be written and read from as per the data sheet. This example communicates the Grove ADC and returns the raw value back to python"
   ]
  },
  {
   "cell_type": "code",
   "execution_count": 11,
   "metadata": {},
   "outputs": [
    {
     "data": {
      "text/html": [
       "<pre>Compile SUCCEEDED</pre>"
      ],
      "text/plain": [
       "<IPython.core.display.HTML object>"
      ]
     },
     "execution_count": 11,
     "metadata": {},
     "output_type": "execute_result"
    }
   ],
   "source": [
    "%%microblaze base.PMODA adc_read ipmb.I2C\n",
    "#include <unistd.h>\n",
    "#define ADDRESS 0x50\n",
    "\n",
    "int main() {\n",
    "    i2c_connect(G4);\n",
    "    unsigned char data[2];\n",
    "    // Setup the device\n",
    "    data[0] = 0x02;\n",
    "    data[1] = 0x20;\n",
    "    i2c_write(ADDRESS, data, 2);\n",
    "    // Read the value\n",
    "    data[0] = 0x00;\n",
    "    i2c_write(ADDRESS, data, 1);\n",
    "    i2c_read(ADDRESS, data, 2);\n",
    "    write(STDOUT_FILENO, data, 2);\n",
    "}"
   ]
  },
  {
   "cell_type": "code",
   "execution_count": 12,
   "metadata": {},
   "outputs": [
    {
     "data": {
      "text/plain": [
       "b'\\x041'"
      ]
     },
     "execution_count": 12,
     "metadata": {},
     "output_type": "execute_result"
    }
   ],
   "source": [
    "adc_read.stream.read()"
   ]
  },
  {
   "cell_type": "markdown",
   "metadata": {},
   "source": [
    "Likewise we can do the same for Arduino"
   ]
  },
  {
   "cell_type": "code",
   "execution_count": 13,
   "metadata": {},
   "outputs": [
    {
     "data": {
      "text/html": [
       "<pre>Compile SUCCEEDED</pre>"
      ],
      "text/plain": [
       "<IPython.core.display.HTML object>"
      ]
     },
     "execution_count": 13,
     "metadata": {},
     "output_type": "execute_result"
    }
   ],
   "source": [
    "%%microblaze base.ARDUINO adc_read_a ipmb.I2C\n",
    "#include <unistd.h>\n",
    "#define ADDRESS 0x50\n",
    "\n",
    "int main() {\n",
    "    i2c_connect(G4);\n",
    "    unsigned char data[2];\n",
    "    // Setup the device\n",
    "    data[0] = 0x02;\n",
    "    data[1] = 0x20;\n",
    "    i2c_write(ADDRESS, data, 2);\n",
    "    // Read the value\n",
    "    data[0] = 0x00;\n",
    "    i2c_write(ADDRESS, data, 1);\n",
    "    i2c_read(ADDRESS, data, 2);\n",
    "    write(STDOUT_FILENO, data, 2);\n",
    "}"
   ]
  },
  {
   "cell_type": "code",
   "execution_count": 14,
   "metadata": {},
   "outputs": [
    {
     "data": {
      "text/plain": [
       "b'\\x042'"
      ]
     },
     "execution_count": 14,
     "metadata": {},
     "output_type": "execute_result"
    }
   ],
   "source": [
    "adc_read_a.stream.read()"
   ]
  },
  {
   "cell_type": "markdown",
   "metadata": {},
   "source": [
    "Note that this is a common pattern for accessing registers in I2C devices - a single byte address write followed by a read or write of one or more bytes."
   ]
  }
 ],
 "metadata": {
  "kernelspec": {
   "display_name": "Python 3",
   "language": "python",
   "name": "python3"
  },
  "language_info": {
   "codemirror_mode": {
    "name": "ipython",
    "version": 3
   },
   "file_extension": ".py",
   "mimetype": "text/x-python",
   "name": "python",
   "nbconvert_exporter": "python",
   "pygments_lexer": "ipython3",
   "version": "3.6.0"
  }
 },
 "nbformat": 4,
 "nbformat_minor": 2
}
