{
 "cells": [
  {
   "cell_type": "markdown",
   "metadata": {},
   "source": [
    "# I2C and GPIO Functions\n",
    "\n",
    "The `mbio` library provides wrapper functions for interacting with GPIO and I2C devices independent of the underlying BSP. The number of each type of device can be found with the `*_num_devices()` function. Devices can then be opened with on of the `*_open` functions to return a handle. It is up to the BSP author to determine which device ID correspondes to the device they want to use. For the Arduino and PMOD IOPs this is abstracted by the `iop_switch` API which returns a handle for a given pin or connector.\n",
    "\n",
    "With a handle the rest of the `mbio` can be used to read and write from the GPIO pin or I2C peripheral. The complete API for the GPIO and I2C interfaces is:\n",
    "\n",
    "```C\n",
    "// mbio interface\n",
    "int mb_gpio_num_devices();\n",
    "mb_gpio mb_gpio_open_pin(int index, int channel, int pin);\n",
    "mb_gpio mb_gpio_open_range(int index, int channel, int low, int high);\n",
    "mb_gpio mb_gpio_open_all(int index, int channel);\n",
    "void mb_gpio_set_direction(mb_gpio dev, int direction);\n",
    "void mb_gpio_write(mb_gpio dev, int val);\n",
    "int mb_gpio_read(mb_gpio dev);\n",
    "\n",
    "int mb_i2c_num_devices();\n",
    "mb_i2c mb_i2c_open(int index);\n",
    "int mb_i2c_read(mb_i2c device, unsigned char address, char* data, int length);\n",
    "int mb_i2c_write(mb_i2c device, unsigned char address, const char* data, int length);\n",
    "\n",
    "// iop_switch interface\n",
    "mb_i2c iop_switch_i2c_raw(unsigned char scl, unsigned char sda);\n",
    "mb_i2c iop_switch_i2c_grove(unsigned char port);\n",
    "mb_gpio iop_switch_gpio_raw(unsigned char pin);\n",
    "mb_gpio iop_switch_gpio_grove(unsigned char port, unsigned char wire);\n",
    "```\n",
    "\n"
   ]
  },
  {
   "cell_type": "markdown",
   "metadata": {},
   "source": [
    "## Using the GPIO\n",
    "\n",
    "The Grove connector has two GPIO pins which can be accessed using channels 0 and 1 in the library. First we need to load the overlay and then we can read the value of the two pins back to python. The GPIO library requires creating instances for each pin so two instances are required to access both data pins in a Grove connector."
   ]
  },
  {
   "cell_type": "code",
   "execution_count": 1,
   "metadata": {},
   "outputs": [
    {
     "data": {
      "application/javascript": [
       "\n",
       "require(['notebook/js/codecell'], function(codecell) {\n",
       "  codecell.CodeCell.options_default.highlight_modes['magic_text/x-csrc'] = {'reg':[/^%%microblaze/]};\n",
       "  Jupyter.notebook.events.one('kernel_ready.Kernel', function(){\n",
       "      Jupyter.notebook.get_cells().map(function(cell){\n",
       "          if (cell.cell_type == 'code'){ cell.auto_highlight(); } }) ;\n",
       "  });\n",
       "});\n"
      ]
     },
     "metadata": {},
     "output_type": "display_data"
    }
   ],
   "source": [
    "import ipython_microblaze as ipmb\n",
    "from pynq.overlays.base import BaseOverlay\n",
    "base = BaseOverlay('base.bit')"
   ]
  },
  {
   "cell_type": "code",
   "execution_count": 2,
   "metadata": {},
   "outputs": [],
   "source": [
    "%%microblaze_functions base.PMODA\n",
    "#include <iop.h>\n",
    "\n",
    "int read_data(unsigned char* data) {\n",
    "    gpio g1a = gpio_open_iop_grove(G1, 0);\n",
    "    gpio g1b = gpio_open_iop_grove(G1, 1);\n",
    "    gpio_set_direction(g1a, GPIO_IN);\n",
    "    gpio_set_direction(g1b, GPIO_IN);\n",
    "    data[0] = gpio_read(g1a);\n",
    "    data[1] = gpio_read(g1b);\n",
    "    return 0;\n",
    "}"
   ]
  },
  {
   "cell_type": "code",
   "execution_count": 3,
   "metadata": {},
   "outputs": [
    {
     "name": "stdout",
     "output_type": "stream",
     "text": [
      "bytearray(b'\\x01\\x01')\n"
     ]
    }
   ],
   "source": [
    "data = bytearray(2)\n",
    "read_data(data)\n",
    "print(data)"
   ]
  },
  {
   "cell_type": "markdown",
   "metadata": {},
   "source": [
    "Likewise the same can be done for an Arduino-attached Grove device"
   ]
  },
  {
   "cell_type": "code",
   "execution_count": 4,
   "metadata": {},
   "outputs": [],
   "source": [
    "%%microblaze_functions base.ARDUINO\n",
    "#include <iop.h>\n",
    "\n",
    "int read_data_a(unsigned char* data) {\n",
    "    gpio g1a = gpio_open_iop_grove(G1, 0);\n",
    "    gpio g1b = gpio_open_iop_grove(G1, 1);\n",
    "    gpio_set_direction(g1a, GPIO_IN);\n",
    "    gpio_set_direction(g1b, GPIO_IN);\n",
    "    data[0] = gpio_read(g1a);\n",
    "    data[1] = gpio_read(g1b);\n",
    "    return 0;\n",
    "}"
   ]
  },
  {
   "cell_type": "code",
   "execution_count": 5,
   "metadata": {},
   "outputs": [
    {
     "name": "stdout",
     "output_type": "stream",
     "text": [
      "bytearray(b'\\x01\\x00')\n"
     ]
    }
   ],
   "source": [
    "read_data_a(data)\n",
    "print(data)"
   ]
  },
  {
   "cell_type": "code",
   "execution_count": 6,
   "metadata": {},
   "outputs": [],
   "source": [
    "read_data.reset()\n",
    "read_data_a.reset()"
   ]
  },
  {
   "cell_type": "markdown",
   "metadata": {},
   "source": [
    "## Using I2C\n",
    "\n",
    "The I2C peripherals can be written and read from as per the data sheet. This example communicates the Grove ADC and returns the raw value back to python"
   ]
  },
  {
   "cell_type": "code",
   "execution_count": 7,
   "metadata": {},
   "outputs": [],
   "source": [
    "%%microblaze_functions base.PMODA\n",
    "#include <iop.h>\n",
    "#define ADDRESS 0x50\n",
    "\n",
    "int adc_read() {\n",
    "    i2c bus = i2c_open_iop_grove(G4);\n",
    "    unsigned char data[2];\n",
    "    // Setup the device\n",
    "    data[0] = 0x02;\n",
    "    data[1] = 0x20;\n",
    "    i2c_write(bus, ADDRESS, data, 2);\n",
    "    // Read the value\n",
    "    data[0] = 0x00;\n",
    "    i2c_write(bus, ADDRESS, data, 1);\n",
    "    i2c_read(bus, ADDRESS, data, 2);\n",
    "    return ((int)data[0] << 8) | data[1];\n",
    "}"
   ]
  },
  {
   "cell_type": "code",
   "execution_count": 8,
   "metadata": {},
   "outputs": [
    {
     "data": {
      "text/plain": [
       "78"
      ]
     },
     "execution_count": 8,
     "metadata": {},
     "output_type": "execute_result"
    }
   ],
   "source": [
    "adc_read()"
   ]
  },
  {
   "cell_type": "markdown",
   "metadata": {},
   "source": [
    "Likewise we can do the same for Arduino"
   ]
  },
  {
   "cell_type": "code",
   "execution_count": 9,
   "metadata": {},
   "outputs": [],
   "source": [
    "%%microblaze_functions base.ARDUINO\n",
    "#include <iop.h>\n",
    "#define ADDRESS 0x50\n",
    "\n",
    "int adc_read_a() {\n",
    "    i2c bus = i2c_open_iop_grove(G4);\n",
    "    unsigned char data[2];\n",
    "    // Setup the device\n",
    "    data[0] = 0x02;\n",
    "    data[1] = 0x20;\n",
    "    i2c_write(bus, ADDRESS, data, 2);\n",
    "    // Read the value\n",
    "    data[0] = 0x00;\n",
    "    i2c_write(bus, ADDRESS, data, 1);\n",
    "    i2c_read(bus, ADDRESS, data, 2);\n",
    "    return ((int)data[0] << 8) | data[1];\n",
    "}"
   ]
  },
  {
   "cell_type": "code",
   "execution_count": 10,
   "metadata": {},
   "outputs": [
    {
     "data": {
      "text/plain": [
       "2175"
      ]
     },
     "execution_count": 10,
     "metadata": {},
     "output_type": "execute_result"
    }
   ],
   "source": [
    "adc_read_a()"
   ]
  },
  {
   "cell_type": "markdown",
   "metadata": {},
   "source": [
    "Note that this is a common pattern for accessing registers in I2C devices - a single byte address write followed by a read or write of one or more bytes."
   ]
  }
 ],
 "metadata": {
  "kernelspec": {
   "display_name": "Python 3",
   "language": "python",
   "name": "python3"
  },
  "language_info": {
   "codemirror_mode": {
    "name": "ipython",
    "version": 3
   },
   "file_extension": ".py",
   "mimetype": "text/x-python",
   "name": "python",
   "nbconvert_exporter": "python",
   "pygments_lexer": "ipython3",
   "version": "3.6.0"
  }
 },
 "nbformat": 4,
 "nbformat_minor": 2
}
