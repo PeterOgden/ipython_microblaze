{
 "cells": [
  {
   "cell_type": "markdown",
   "metadata": {},
   "source": [
    "# Microblaze Compilation\n",
    "\n",
    "This notebook introduces how to compile Microblaze code from within Jupyter and IPython. The examples presented here use the base overlay and the IOPs but this process can be extended to other Microblaze systems.\n",
    "\n",
    "The first thing we need is to load the Microblaze library."
   ]
  },
  {
   "cell_type": "code",
   "execution_count": 1,
   "metadata": {},
   "outputs": [
    {
     "data": {
      "application/javascript": [
       "\n",
       "require(['notebook/js/codecell'], function(codecell) {\n",
       "  codecell.CodeCell.options_default.highlight_modes['magic_text/x-csrc'] = {'reg':[/^%%microblaze/]};\n",
       "  Jupyter.notebook.events.one('kernel_ready.Kernel', function(){\n",
       "      Jupyter.notebook.get_cells().map(function(cell){\n",
       "          if (cell.cell_type == 'code'){ cell.auto_highlight(); } }) ;\n",
       "  });\n",
       "});\n"
      ]
     },
     "metadata": {},
     "output_type": "display_data"
    }
   ],
   "source": [
    "import ipython_microblaze as ipmb"
   ]
  },
  {
   "cell_type": "markdown",
   "metadata": {},
   "source": [
    "This package will install a new `%%microblaze` magic which takes at least two parameters. The first is the IOP to compile against and load the code on to and the second is the name of the variable to store the program. The easiest way to show the various use cases is through a series of examples."
   ]
  },
  {
   "cell_type": "markdown",
   "metadata": {},
   "source": [
    "## Example 1: Lower-casing some text\n",
    "\n",
    "This example gives the simplest implementation of reading and writing to a stream inside of the C code and how that is exposed in Python. It reads a block of data, lower-cases it all and then writes it back again. First we need to import the Base overlay to access the IOPs"
   ]
  },
  {
   "cell_type": "code",
   "execution_count": 2,
   "metadata": {},
   "outputs": [],
   "source": [
    "from pynq.overlays.base import BaseOverlay\n",
    "\n",
    "base = BaseOverlay('base.bit')"
   ]
  },
  {
   "cell_type": "markdown",
   "metadata": {},
   "source": [
    "Then we can use one of our new magic cells to compile the program and load it on to the IOP. The first argument is the Microblaze to use and the second parameter is the variable to store the compiled program in."
   ]
  },
  {
   "cell_type": "code",
   "execution_count": 3,
   "metadata": {},
   "outputs": [
    {
     "data": {
      "text/html": [
       "<pre>Compile SUCCEEDED</pre>"
      ],
      "text/plain": [
       "<IPython.core.display.HTML object>"
      ]
     },
     "execution_count": 3,
     "metadata": {},
     "output_type": "execute_result"
    }
   ],
   "source": [
    "%%microblaze base.ARDUINO lower_case\n",
    "#include <unistd.h>\n",
    "#include <ctype.h>\n",
    "\n",
    "int main() {\n",
    "        char buf[1024];\n",
    "        int bytes;\n",
    "        int remain = 0;\n",
    "        while (1) {\n",
    "                bytes = read(STDIN_FILENO, buf, 1024);\n",
    "                for (int i = 0; i < bytes; ++i) {\n",
    "                        buf[i] = (char)tolower(buf[i]);\n",
    "                }\n",
    "                remain = bytes;\n",
    "                while (remain > 0) {\n",
    "                        remain -= write(STDOUT_FILENO, buf + bytes - remain, remain);\n",
    "                }\n",
    "        }\n",
    "}"
   ]
  },
  {
   "cell_type": "markdown",
   "metadata": {},
   "source": [
    "We can now run some text through the program using the `stream` member of the returned variable. Note that the read and write functions on the stream take binary strings so the Unicode strings will need to be `encode`d or `decode`d."
   ]
  },
  {
   "cell_type": "code",
   "execution_count": 4,
   "metadata": {
    "scrolled": true
   },
   "outputs": [
    {
     "name": "stdout",
     "output_type": "stream",
     "text": [
      "hello, world!\n"
     ]
    }
   ],
   "source": [
    "test_string = 'HELLO, WORLD!'.encode()\n",
    "lower_case.stream.write(test_string)\n",
    "result = None\n",
    "while not result:\n",
    "    result = lower_case.stream.read()\n",
    "print(result.decode())"
   ]
  },
  {
   "cell_type": "markdown",
   "metadata": {},
   "source": [
    "## Example 2: `printf` and its variants\n",
    "\n",
    "This example looks at some of the ways of handling and printing strings inside the microblaze code. The most common function is `printf` which, due to its design, is too large to fit in the microblaze code memory. Instead there are a variety of functions that offer restricted subsets of printf. The full list is detailed a [https://www.xilinx.com/support/answers/19592.html]. The two of most use here are `print` which prints a plain string and `xil_printf` which offers non-reentrant printing to stdout without support for floating point numbers. `xil_io.h` should be included for the `xil_printf` and `print` function prototypes.\n",
    "\n",
    "The code below prints a header before starting with `print` and then reads a line of text, character by character, from stdin using `getchar`, echoing the characters with `putchar`. Once a whole line has been read the number of characters in the line is written using `xil_printf`."
   ]
  },
  {
   "cell_type": "code",
   "execution_count": 5,
   "metadata": {},
   "outputs": [
    {
     "data": {
      "text/html": [
       "<pre>Compile SUCCEEDED</pre>"
      ],
      "text/plain": [
       "<IPython.core.display.HTML object>"
      ]
     },
     "execution_count": 5,
     "metadata": {},
     "output_type": "execute_result"
    }
   ],
   "source": [
    "%%microblaze base.PMODB letter_count\n",
    "#include <stdio.h>\n",
    "#include <xil_io.h>\n",
    "\n",
    "int main() {\n",
    "    print(\"Starting Letter Count\\n\");\n",
    "    while (1) {\n",
    "        int letter_count = 0;\n",
    "        int c = getchar();\n",
    "        while (c != '\\n') {\n",
    "            putchar(c);\n",
    "            c = getchar();\n",
    "            letter_count++;\n",
    "        }\n",
    "        fflush(stdout);\n",
    "        xil_printf(\" (%d letters)\\n\", letter_count);\n",
    "    }\n",
    "\n",
    "}"
   ]
  },
  {
   "cell_type": "code",
   "execution_count": 6,
   "metadata": {},
   "outputs": [
    {
     "name": "stdout",
     "output_type": "stream",
     "text": [
      "Starting Letter Count\n",
      "Hello, World! (13 letters)\n",
      "A really really long string (27 letters)\n",
      "\n"
     ]
    }
   ],
   "source": [
    "import time\n",
    "\n",
    "test_string = \"Hello, World!\\nA really really long string\\n\"\n",
    "letter_count.stream.write(test_string.encode())\n",
    "\n",
    "time.sleep(0.2)\n",
    "print(letter_count.stream.read().decode())"
   ]
  },
  {
   "cell_type": "markdown",
   "metadata": {},
   "source": [
    "## Example 3: Asynchronous Communication\n",
    "The IOPs have interrupt support on reading so the PS can be idle while waiting for data. The use of `asyncio` allows us to chain the IOPs together using coroutines. This example will feed the result of the lower-case IOP into the input of the counting IOP.\n",
    "\n",
    "As the whole process will happen asynchronously, we use three tasks to feed the data, transfer the data, and print the result. To ensure that interrupts rather than polling is being used we also have a fourth task to print the CPU utilisation periodically throughout the program's execution."
   ]
  },
  {
   "cell_type": "code",
   "execution_count": 7,
   "metadata": {},
   "outputs": [],
   "source": [
    "import asyncio\n",
    "import psutil\n",
    "\n",
    "async def write_data():\n",
    "    for i in range(20):\n",
    "        lower_case.stream.write(f\"TeSt String {i}\\n\".encode())\n",
    "        await asyncio.sleep(0.5)\n",
    "        \n",
    "async def transfer_data():\n",
    "    while True:\n",
    "        data = await lower_case.stream.read_async()\n",
    "        letter_count.stream.write(data)\n",
    "\n",
    "async def read_print():\n",
    "    while True:\n",
    "        data = await letter_count.stream.read_async()\n",
    "        print(data.decode().strip('\\n'))\n",
    "\n",
    "async def print_cpu_usage():\n",
    "    # Calculate the CPU utilisation by the amount of idle time\n",
    "    # each CPU has had in three second intervals\n",
    "    last_idle = [c.idle for c in psutil.cpu_times(percpu=True)]\n",
    "    while True:\n",
    "        await asyncio.sleep(3)\n",
    "        next_idle = [c.idle for c in psutil.cpu_times(percpu=True)]\n",
    "        usage = [(1-(c2-c1)/3) * 100 for c1,c2 in zip(last_idle, next_idle)]\n",
    "        print(\"CPU Usage: {0:3.2f}%, {1:3.2f}%\".format(*usage))\n",
    "        last_idle = next_idle\n",
    "\n",
    "\n",
    "        \n",
    "write_task = asyncio.ensure_future(write_data())\n",
    "transfer_task = asyncio.ensure_future(transfer_data())\n",
    "read_task = asyncio.ensure_future(read_print())\n",
    "usage_task = asyncio.ensure_future(print_cpu_usage())"
   ]
  },
  {
   "cell_type": "markdown",
   "metadata": {},
   "source": [
    "Finally we can run the event loop until the writing task has finished"
   ]
  },
  {
   "cell_type": "code",
   "execution_count": 8,
   "metadata": {},
   "outputs": [
    {
     "name": "stdout",
     "output_type": "stream",
     "text": [
      "test string 0 (13 letters)\n",
      "test string 1 (13 letters)\n",
      "test string 2 (13 letters)\n",
      "test string 3 (13 letters)\n",
      "test string 4 (13 letters)\n",
      "test string 5 (13 letters)\n",
      "CPU Usage: 3.67%, 5.00%\n",
      "test string 6 (13 letters)\n",
      "test string 7 (13 letters)\n",
      "test string 8 (13 letters)\n",
      "test string 9 (13 letters)\n",
      "test string 10 (14 letters)\n",
      "test string 11 (14 letters)\n",
      "CPU Usage: 2.67%, 4.33%\n",
      "test string 12 (14 letters)\n",
      "test string 13 (14 letters)\n",
      "test string 14 (14 letters)\n",
      "test string 15 (14 letters)\n",
      "test string 16 (14 letters)\n",
      "test string 17 (14 letters)\n",
      "CPU Usage: 2.67%, 3.67%\n",
      "test string 18 (14 letters)\n",
      "test string 19 (14 letters)\n"
     ]
    }
   ],
   "source": [
    "loop = asyncio.get_event_loop()\n",
    "loop.run_until_complete(write_task)"
   ]
  },
  {
   "cell_type": "markdown",
   "metadata": {},
   "source": [
    "To clean up we need to cancel our never-ending tasks to avoid polluting the event loop"
   ]
  },
  {
   "cell_type": "code",
   "execution_count": 9,
   "metadata": {},
   "outputs": [],
   "source": [
    "transfer_task.cancel()\n",
    "read_task.cancel()\n",
    "usage_task.cancel()\n",
    "\n",
    "lower_case.reset()\n",
    "letter_count.reset()"
   ]
  },
  {
   "cell_type": "markdown",
   "metadata": {},
   "source": [
    "## Example 4 - Direct Communication between IOPs\n",
    "\n",
    "As the API is symmetric (with the exception of the interrupts which are special-cased), it is entirely possible for two IOPs to talk to each other without needing the PS to do anything. The system implements the `open` syscall where the path is the pointer to the base address of the buffer. First we'll recreate our upper-case/counting demo but with the IOP communication done without the PS."
   ]
  },
  {
   "cell_type": "markdown",
   "metadata": {},
   "source": [
    "First we need to allocate some memory for the buffer using the xlnk driver and re-download the bitstream to clear the IOP programs."
   ]
  },
  {
   "cell_type": "code",
   "execution_count": 10,
   "metadata": {},
   "outputs": [],
   "source": [
    "from pynq import Xlnk\n",
    "\n",
    "xlnk = Xlnk()\n",
    "buffer = xlnk.cma_alloc(0x800)\n",
    "phys_buffer_ptr = xlnk.cma_get_phy_addr(buffer)"
   ]
  },
  {
   "cell_type": "markdown",
   "metadata": {},
   "source": [
    "We are going to pass this pointer into each program as part of the initialisation procedure. The microblaze doesn't share directly the same memory address as the PS so the pointer needs to be or'ed with 0x20000000 to be valid in the microblaze's address space."
   ]
  },
  {
   "cell_type": "code",
   "execution_count": 11,
   "metadata": {},
   "outputs": [
    {
     "data": {
      "text/html": [
       "<pre>Compile SUCCEEDED</pre>"
      ],
      "text/plain": [
       "<IPython.core.display.HTML object>"
      ]
     },
     "execution_count": 11,
     "metadata": {},
     "output_type": "execute_result"
    }
   ],
   "source": [
    "%%microblaze base.PMODA letter_count\n",
    "#include <stdio.h>\n",
    "#include <xil_io.h>\n",
    "#include <fcntl.h>\n",
    "#include <unistd.h>\n",
    "\n",
    "int main() {\n",
    "    print(\"Starting Letter Count\\n\");\n",
    "    char* stream_ptr;\n",
    "    int fd;\n",
    "    read(STDIN_FILENO, &stream_ptr, 4);\n",
    "    fd = open(stream_ptr, O_RDONLY);\n",
    "    FILE* f = fdopen(fd, \"r\");\n",
    "    xil_printf(\"Using descriptor %d on buffer %d\\n\", fd, (int)stream_ptr);\n",
    "    while (1) {\n",
    "        int letter_count = 0;\n",
    "        int c;\n",
    "        c = getc(f);\n",
    "        while (c != '\\n') {\n",
    "            putchar(c);\n",
    "            c = getc(f);\n",
    "            letter_count++;\n",
    "        }\n",
    "        fflush(stdout);\n",
    "        xil_printf(\" (%d letters)\\n\", letter_count);\n",
    "    }\n",
    "\n",
    "}"
   ]
  },
  {
   "cell_type": "code",
   "execution_count": 12,
   "metadata": {},
   "outputs": [
    {
     "data": {
      "text/html": [
       "<pre>Compile SUCCEEDED</pre>"
      ],
      "text/plain": [
       "<IPython.core.display.HTML object>"
      ]
     },
     "execution_count": 12,
     "metadata": {},
     "output_type": "execute_result"
    }
   ],
   "source": [
    "%%microblaze base.PMODB lower_case\n",
    "#include <unistd.h>\n",
    "#include <ctype.h>\n",
    "#include <fcntl.h>\n",
    "#include <stdio.h>\n",
    "#include <xil_io.h>\n",
    "int main() {\n",
    "        char buf[256];\n",
    "        int bytes;\n",
    "        int remain = 0;\n",
    "        char* buffer_ptr;\n",
    "        int fd;\n",
    "        read(STDIN_FILENO, &buffer_ptr, 4);\n",
    "        fd = open(buffer_ptr, O_WRONLY);\n",
    "        xil_printf(\"Using descriptor %d on buffer %d\\n\", fd, (int)buffer_ptr);\n",
    "        while (1) {\n",
    "                bytes = read(STDIN_FILENO, buf, 256);\n",
    "                for (int i = 0; i < bytes; ++i) {\n",
    "                        buf[i] = (char)tolower(buf[i]);\n",
    "                }\n",
    "                remain = bytes;\n",
    "                while (remain > 0) {\n",
    "                        int written = write(fd, buf + bytes - remain, remain);\n",
    "                        remain -= written;\n",
    "                }\n",
    "        }\n",
    "}"
   ]
  },
  {
   "cell_type": "code",
   "execution_count": 13,
   "metadata": {},
   "outputs": [
    {
     "data": {
      "text/plain": [
       "4"
      ]
     },
     "execution_count": 13,
     "metadata": {},
     "output_type": "execute_result"
    }
   ],
   "source": [
    "import struct\n",
    "\n",
    "mb_ptr = phys_buffer_ptr | 0x20000000\n",
    "letter_count.stream.write(struct.pack('I',mb_ptr))\n",
    "lower_case.stream.write(struct.pack('I',mb_ptr))"
   ]
  },
  {
   "cell_type": "markdown",
   "metadata": {},
   "source": [
    "We can then base our string into the lower microblaze and read the result back from the count program without having to do any data transfer in the PS."
   ]
  },
  {
   "cell_type": "code",
   "execution_count": 14,
   "metadata": {},
   "outputs": [
    {
     "name": "stdout",
     "output_type": "stream",
     "text": [
      "Starting Letter Count\n",
      "Using descriptor 2 on buffer 914644992\n",
      "hello, world (12 letters)\n",
      "\n"
     ]
    }
   ],
   "source": [
    "lower_case.stream.write(b'Hello, World\\n')\n",
    "time.sleep(0.2)\n",
    "print(letter_count.stream.read().decode())"
   ]
  },
  {
   "cell_type": "markdown",
   "metadata": {},
   "source": [
    "We can also read the debug information being printed from the lower program as well."
   ]
  },
  {
   "cell_type": "code",
   "execution_count": 15,
   "metadata": {},
   "outputs": [
    {
     "name": "stdout",
     "output_type": "stream",
     "text": [
      "b'Using descriptor 2 on buffer 914644992\\n'\n"
     ]
    }
   ],
   "source": [
    "print(lower_case.stream.read())"
   ]
  },
  {
   "cell_type": "markdown",
   "metadata": {},
   "source": [
    "Unlike other microblaze programs, any which touch the DDR memory need to be closed properly to otherwise invalid transactions can occur when the bitstream is reprogrammed leading to the PS interconnect in an ill-defined state and many hours spent debugging. We can also take this opportunity to free the Xlnk buffer."
   ]
  },
  {
   "cell_type": "code",
   "execution_count": 16,
   "metadata": {},
   "outputs": [],
   "source": [
    "lower_case.reset()\n",
    "letter_count.reset()\n",
    "xlnk.cma_free(buffer)"
   ]
  },
  {
   "cell_type": "markdown",
   "metadata": {},
   "source": [
    "## Example 5 - Peripheral Libraries\n",
    "\n",
    "To make peripherals easier to use the driver code from peripherals in the PYNQ standard library has been refactored into libraries which can be used by passing additional parameters to the `%%microblaze` magic. The first two examples are the Grove ADC and LEDBar attached to G4 and G1 of a Pmod/Grove adapter on PMODA.\n",
    "\n",
    "To look at the APIs for the devices we can look at the `declaration` attribute of the Peripheral."
   ]
  },
  {
   "cell_type": "code",
   "execution_count": 17,
   "metadata": {},
   "outputs": [
    {
     "name": "stdout",
     "output_type": "stream",
     "text": [
      "\n",
      "\n",
      "typedef struct {\n",
      "    short data;\n",
      "    short clk;\n",
      "} ledbar;\n",
      "\n",
      "ledbar ledbar_init(unsigned char port);\n",
      "void ledbar_set_level(ledbar, unsigned char i);\n",
      "void ledbar_set_data(ledbar, unsigned char data[10]);\n",
      "\n",
      "\n",
      "\n",
      "void adc_init(unsigned char port);\n",
      "float adc_read_sample();\n",
      "\n"
     ]
    }
   ],
   "source": [
    "print(ipmb.LEDBar.declaration)\n",
    "print(ipmb.GroveADC.declaration)"
   ]
  },
  {
   "cell_type": "markdown",
   "metadata": {},
   "source": [
    "These two peripherals can now be used independently as with the current API by creating simple python and C wrappers. The LED bar has a simple write only interface which reads 10-byte blocks from stdin and sets the LEDs appropriately."
   ]
  },
  {
   "cell_type": "code",
   "execution_count": 18,
   "metadata": {},
   "outputs": [
    {
     "data": {
      "text/html": [
       "<pre>Compile SUCCEEDED</pre>"
      ],
      "text/plain": [
       "<IPython.core.display.HTML object>"
      ]
     },
     "execution_count": 18,
     "metadata": {},
     "output_type": "execute_result"
    }
   ],
   "source": [
    "%%microblaze base.PMODA ledbar_program ipmb.LEDBar\n",
    "#include <unistd.h>\n",
    "\n",
    "int main() {\n",
    "    ledbar g1 = ledbar_init(G1);\n",
    "    \n",
    "    unsigned char data[10];\n",
    "    while (1) {\n",
    "        read(STDIN_FILENO, data, 10);\n",
    "        ledbar_set_data(g1, data);\n",
    "    }\n",
    "}"
   ]
  },
  {
   "cell_type": "code",
   "execution_count": 19,
   "metadata": {},
   "outputs": [
    {
     "data": {
      "text/plain": [
       "10"
      ]
     },
     "execution_count": 19,
     "metadata": {},
     "output_type": "execute_result"
    }
   ],
   "source": [
    "ledbar_program.stream.write(b'\\xFF\\x00' * 5)"
   ]
  },
  {
   "cell_type": "markdown",
   "metadata": {},
   "source": [
    "While a slightly more complex driver program for the ADC can record periodic samples based on a couple of parameters"
   ]
  },
  {
   "cell_type": "code",
   "execution_count": 20,
   "metadata": {},
   "outputs": [],
   "source": [
    "ledbar_program.reset()"
   ]
  },
  {
   "cell_type": "code",
   "execution_count": 21,
   "metadata": {},
   "outputs": [
    {
     "data": {
      "text/html": [
       "<pre>Compile SUCCEEDED</pre>"
      ],
      "text/plain": [
       "<IPython.core.display.HTML object>"
      ]
     },
     "execution_count": 21,
     "metadata": {},
     "output_type": "execute_result"
    }
   ],
   "source": [
    "%%microblaze base.PMODA adc_program ipmb.GroveADC\n",
    "#include <unistd.h>\n",
    "\n",
    "int main(void) {\n",
    "    adc_init(G4);\n",
    "    while (1) {\n",
    "        int num;\n",
    "        int delay;\n",
    "        read(STDIN_FILENO, &num, 4);\n",
    "        read(STDIN_FILENO, &delay, 4);\n",
    "        for (int i = 0; i < num; ++i) {\n",
    "            float voltage = adc_read_sample();\n",
    "            write(STDOUT_FILENO, &voltage, 4);\n",
    "            delay_ms(delay);\n",
    "        }\n",
    "    }\n",
    "\n",
    "}"
   ]
  },
  {
   "cell_type": "code",
   "execution_count": 22,
   "metadata": {},
   "outputs": [
    {
     "data": {
      "text/plain": [
       "(1.6287109851837158,\n",
       " 1.627197265625,\n",
       " 1.627197265625,\n",
       " 1.6287109851837158,\n",
       " 1.6287109851837158,\n",
       " 1.6287109851837158,\n",
       " 1.627197265625,\n",
       " 1.627197265625,\n",
       " 1.627197265625,\n",
       " 1.6287109851837158)"
      ]
     },
     "execution_count": 22,
     "metadata": {},
     "output_type": "execute_result"
    }
   ],
   "source": [
    "# 10 samples spaced by 200 ms\n",
    "import struct\n",
    "import time\n",
    "adc_program.stream.write(struct.pack('II', 10, 200))\n",
    "time.sleep(3)\n",
    "struct.unpack('10f', adc_program.stream.read())"
   ]
  },
  {
   "cell_type": "markdown",
   "metadata": {},
   "source": [
    "The LEDBar Peripheral is also supported on the Arduino PYNQ Shield. If we plug it into G1 on the shield then we can reuse the same exact code."
   ]
  },
  {
   "cell_type": "code",
   "execution_count": 23,
   "metadata": {},
   "outputs": [
    {
     "data": {
      "text/html": [
       "<pre>Compile SUCCEEDED</pre>"
      ],
      "text/plain": [
       "<IPython.core.display.HTML object>"
      ]
     },
     "execution_count": 23,
     "metadata": {},
     "output_type": "execute_result"
    }
   ],
   "source": [
    "%%microblaze base.ARDUINO ledbar_program ipmb.LEDBar\n",
    "#include <unistd.h>\n",
    "\n",
    "int main() {\n",
    "    ledbar g1 = ledbar_init(G1);\n",
    "    \n",
    "    unsigned char data[10];\n",
    "    while (1) {\n",
    "        read(STDIN_FILENO, data, 10);\n",
    "        ledbar_set_data(g1, data);\n",
    "    }\n",
    "}"
   ]
  },
  {
   "cell_type": "code",
   "execution_count": 24,
   "metadata": {},
   "outputs": [
    {
     "data": {
      "text/plain": [
       "10"
      ]
     },
     "execution_count": 24,
     "metadata": {},
     "output_type": "execute_result"
    }
   ],
   "source": [
    "ledbar_program.stream.write(b'\\xFF\\x00' * 5)"
   ]
  },
  {
   "cell_type": "markdown",
   "metadata": {},
   "source": [
    "The final peripheral in this demo is the OLED PMOD which currently as a simplified API for testing purposes"
   ]
  },
  {
   "cell_type": "code",
   "execution_count": 25,
   "metadata": {},
   "outputs": [
    {
     "name": "stdout",
     "output_type": "stream",
     "text": [
      "\n",
      "void oled_init();\n",
      "void oled_clear();\n",
      "void oled_print_string(char* string, int x, int y);\n",
      "\n"
     ]
    }
   ],
   "source": [
    "print(ipmb.PmodOLED.declaration)"
   ]
  },
  {
   "cell_type": "markdown",
   "metadata": {},
   "source": [
    "And again we can have a simple driver program that reads strings from stdin and writes them to the OLED screen."
   ]
  },
  {
   "cell_type": "code",
   "execution_count": 26,
   "metadata": {},
   "outputs": [
    {
     "data": {
      "text/html": [
       "<pre>Compile SUCCEEDED</pre>"
      ],
      "text/plain": [
       "<IPython.core.display.HTML object>"
      ]
     },
     "execution_count": 26,
     "metadata": {},
     "output_type": "execute_result"
    }
   ],
   "source": [
    "%%microblaze base.PMODB oled_program ipmb.PmodOLED\n",
    "#include <stdio.h>\n",
    "#include <unistd.h>\n",
    "\n",
    "int main() {\n",
    "    oled_init();\n",
    "    char buf[64];\n",
    "    while (1) {\n",
    "        int bytes = read(STDIN_FILENO, buf, 63);\n",
    "        buf[bytes] = 0;\n",
    "        oled_clear();\n",
    "        oled_print_string(buf, 0, 0);\n",
    "    }\n",
    "}"
   ]
  },
  {
   "cell_type": "code",
   "execution_count": 27,
   "metadata": {},
   "outputs": [
    {
     "data": {
      "text/plain": [
       "13"
      ]
     },
     "execution_count": 27,
     "metadata": {},
     "output_type": "execute_result"
    }
   ],
   "source": [
    "oled_program.stream.write(b'Hello, World!')"
   ]
  },
  {
   "cell_type": "code",
   "execution_count": 28,
   "metadata": {},
   "outputs": [],
   "source": [
    "oled_program.reset()"
   ]
  },
  {
   "cell_type": "markdown",
   "metadata": {},
   "source": [
    "## Example 6 - Offloaded Computation\n",
    "\n",
    "Now we have libraries for both our LED bar and ADC/temperature sensor we can combine them into a single program that reads the voltage and displays it on the LED bar. To determine what the levels should be the program will read 10 float values at startup that correspond to the threshold voltages for each LED."
   ]
  },
  {
   "cell_type": "code",
   "execution_count": 29,
   "metadata": {},
   "outputs": [],
   "source": [
    "base.download()"
   ]
  },
  {
   "cell_type": "code",
   "execution_count": 30,
   "metadata": {},
   "outputs": [
    {
     "data": {
      "text/html": [
       "<pre>Compile SUCCEEDED</pre>"
      ],
      "text/plain": [
       "<IPython.core.display.HTML object>"
      ]
     },
     "execution_count": 30,
     "metadata": {},
     "output_type": "execute_result"
    }
   ],
   "source": [
    "%%microblaze base.PMODA led_adc ipmb.LEDBar ipmb.GroveADC\n",
    "#include <unistd.h>\n",
    "#include \"pmod.h\"\n",
    "#include \"xil_io.h\"\n",
    "\n",
    "int main(void) {\n",
    "    adc_init(G4);\n",
    "    ledbar output = ledbar_init(G1);\n",
    "\n",
    "    float thresholds[10];\n",
    "    \n",
    "    ssize_t bytes = read(STDIN_FILENO, thresholds, 40);\n",
    "    xil_printf(\"Read %d bytes\\n\", bytes);\n",
    "    while (1) {\n",
    "        float voltage = adc_read_sample();\n",
    "        int val = 0;\n",
    "        for (int i = 0; i < 10; ++i) {\n",
    "            if (voltage > thresholds[i]) val = i + 1;\n",
    "        }\n",
    "        ledbar_set_level(output, val);\n",
    "    }\n",
    "}"
   ]
  },
  {
   "cell_type": "code",
   "execution_count": 31,
   "metadata": {},
   "outputs": [
    {
     "data": {
      "text/plain": [
       "40"
      ]
     },
     "execution_count": 31,
     "metadata": {},
     "output_type": "execute_result"
    }
   ],
   "source": [
    "import struct\n",
    "led_adc.stream.write(struct.pack('10f', *[0 + 0.3 * i for i in range(10)]))"
   ]
  },
  {
   "cell_type": "markdown",
   "metadata": {},
   "source": [
    "## Example 7 - Bringing it all together\n",
    "\n",
    "In the final example we will bring together the offloaded computation and the inter-IOP communication. The goal is to read the temperature from the ADC, update the LED bar and write the current temperature to the LED screen, all without involving the host CPU.\n",
    "\n",
    "The starting point is to write our two driver programs. The LED bar/ADC code needs little modification, only reading in a buffer address on startup and writing out the voltage on each pass. The `fsync` system call is used to wait for the buffer to be read by the remote end before starting the cycle again."
   ]
  },
  {
   "cell_type": "code",
   "execution_count": 32,
   "metadata": {},
   "outputs": [],
   "source": [
    "base.download()"
   ]
  },
  {
   "cell_type": "code",
   "execution_count": 33,
   "metadata": {},
   "outputs": [
    {
     "data": {
      "text/html": [
       "<pre>Compile SUCCEEDED</pre>"
      ],
      "text/plain": [
       "<IPython.core.display.HTML object>"
      ]
     },
     "execution_count": 33,
     "metadata": {},
     "output_type": "execute_result"
    }
   ],
   "source": [
    "%%microblaze base.PMODA ledbar_adc ipmb.GroveADC ipmb.LEDBar\n",
    "#include <unistd.h>\n",
    "#include <fcntl.h>\n",
    "#include \"pmod.h\"\n",
    "#include \"xil_io.h\"\n",
    "\n",
    "int main(void) {\n",
    "    adc_init(G4);\n",
    "    ledbar output = ledbar_init(G1);\n",
    "    char* buffer_ptr;\n",
    "    float thresholds[10];\n",
    "    \n",
    "    ssize_t bytes = read(STDIN_FILENO, thresholds, 40);\n",
    "    read(STDIN_FILENO, &buffer_ptr, 4);\n",
    "    int fd = open(buffer_ptr, O_WRONLY);\n",
    "    \n",
    "    xil_printf(\"Read %d bytes\\n\", bytes);\n",
    "    while (1) {\n",
    "        float voltage = adc_read_sample();\n",
    "        int val = 0;\n",
    "        for (int i = 0; i < 10; ++i) {\n",
    "            if (voltage > thresholds[i]) val = i + 1;\n",
    "        }\n",
    "        write(fd, &voltage, 4);\n",
    "        ledbar_set_level(output, val);\n",
    "    }\n",
    "}\n"
   ]
  },
  {
   "cell_type": "code",
   "execution_count": 34,
   "metadata": {},
   "outputs": [
    {
     "data": {
      "text/plain": [
       "40"
      ]
     },
     "execution_count": 34,
     "metadata": {},
     "output_type": "execute_result"
    }
   ],
   "source": [
    "ledbar_adc.stream.write(struct.pack('10f', *[1.5 + 0.04 * i for i in range(10)]))"
   ]
  },
  {
   "cell_type": "markdown",
   "metadata": {},
   "source": [
    "And we need to modify the OLED program to read a value from a buffer, format it and write it out. Please note that sprintf would be the usual option for this but the function way too big to fit in the code memory of the microblaze so we roll our own."
   ]
  },
  {
   "cell_type": "code",
   "execution_count": 35,
   "metadata": {},
   "outputs": [
    {
     "data": {
      "text/html": [
       "<pre>Compile SUCCEEDED</pre>"
      ],
      "text/plain": [
       "<IPython.core.display.HTML object>"
      ]
     },
     "execution_count": 35,
     "metadata": {},
     "output_type": "execute_result"
    }
   ],
   "source": [
    "%%microblaze base.PMODB oled_program ipmb.PmodOLED\n",
    "#include <stdio.h>\n",
    "#include <unistd.h>\n",
    "#include <fcntl.h>\n",
    "#include \"pmod.h\"\n",
    "\n",
    "int main() {\n",
    "    pmod_init(0, 0);\n",
    "    oled_init();\n",
    "    char buf[64] = \"Voltage: xxxx mV\\n\";\n",
    "    char* buffer_ptr;\n",
    "    read(STDIN_FILENO, &buffer_ptr, 4);\n",
    "    int fd = open(buffer_ptr, O_RDONLY);\n",
    "    while (1) {\n",
    "        float val;\n",
    "        read(fd, &val, 4);\n",
    "        char* ptr = buf + 9;\n",
    "        int mv = (int)(val / 0.001);\n",
    "        for (int i = 0; i < 4; ++i) {\n",
    "            ptr[3-i] = '0' + (mv % 10);\n",
    "            mv /= 10;\n",
    "        }\n",
    "        oled_print_string(buf, 0, 0);\n",
    "    }\n",
    "}"
   ]
  },
  {
   "cell_type": "markdown",
   "metadata": {},
   "source": [
    "Now the two programs are started all that remains is to allocate a buffer for them and feed the pointer into the devices."
   ]
  },
  {
   "cell_type": "code",
   "execution_count": 36,
   "metadata": {},
   "outputs": [
    {
     "data": {
      "text/plain": [
       "4"
      ]
     },
     "execution_count": 36,
     "metadata": {},
     "output_type": "execute_result"
    }
   ],
   "source": [
    "buffer = xlnk.cma_alloc(0x800)\n",
    "phys_buffer_ptr = xlnk.cma_get_phy_addr(buffer)\n",
    "mb_ptr = phys_buffer_ptr | 0x20000000\n",
    "ledbar_adc.stream.write(struct.pack('I',mb_ptr))\n",
    "oled_program.stream.write(struct.pack('I',mb_ptr))"
   ]
  },
  {
   "cell_type": "markdown",
   "metadata": {},
   "source": [
    "Once done we need to properly tear down the microblazes as they use the DRAM and free the buffer."
   ]
  },
  {
   "cell_type": "code",
   "execution_count": 37,
   "metadata": {},
   "outputs": [],
   "source": [
    "ledbar_adc.reset()\n",
    "oled_program.reset()\n",
    "xlnk.cma_free(buffer)"
   ]
  }
 ],
 "metadata": {
  "kernelspec": {
   "display_name": "Python 3",
   "language": "python",
   "name": "python3"
  },
  "language_info": {
   "codemirror_mode": {
    "name": "ipython",
    "version": 3
   },
   "file_extension": ".py",
   "mimetype": "text/x-python",
   "name": "python",
   "nbconvert_exporter": "python",
   "pygments_lexer": "ipython3",
   "version": "3.6.0"
  }
 },
 "nbformat": 4,
 "nbformat_minor": 2
}
