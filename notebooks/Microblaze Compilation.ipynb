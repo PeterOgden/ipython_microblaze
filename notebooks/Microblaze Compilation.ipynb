{
 "cells": [
  {
   "cell_type": "markdown",
   "metadata": {},
   "source": [
    "# Microblaze Compilation\n",
    "\n",
    "This notebook introduces how to compile Microblaze code from within Jupyter and IPython. The examples presented here use the base overlay and the IOPs but this process can be extended to other Microblaze systems.\n",
    "\n",
    "The first thing we need is to load the Microblaze library."
   ]
  },
  {
   "cell_type": "code",
   "execution_count": 1,
   "metadata": {},
   "outputs": [
    {
     "data": {
      "application/javascript": [
       "\n",
       "require(['notebook/js/codecell'], function(codecell) {\n",
       "  codecell.CodeCell.options_default.highlight_modes['magic_text/x-csrc'] = {'reg':[/^%%microblaze/]};\n",
       "  Jupyter.notebook.events.one('kernel_ready.Kernel', function(){\n",
       "      Jupyter.notebook.get_cells().map(function(cell){\n",
       "          if (cell.cell_type == 'code'){ cell.auto_highlight(); } }) ;\n",
       "  });\n",
       "});\n"
      ]
     },
     "metadata": {},
     "output_type": "display_data"
    }
   ],
   "source": [
    "import ipython_microblaze as ipmb"
   ]
  },
  {
   "cell_type": "markdown",
   "metadata": {},
   "source": [
    "This package will install a new `%%microblaze_functions` magic which takes the IOP or Microblaze subsystem to run on as an argument. Any C functions in the cell will then be exposed as Python functions that can be called. Input and output to microblaze can be done using the `stdio` attribute of the exported function. Note that all functions will share the same input and output pipe."
   ]
  },
  {
   "cell_type": "markdown",
   "metadata": {},
   "source": [
    "## Example 1: Lower-casing some text\n",
    "\n",
    "This example gives the simplest implementation of reading and writing to a stream inside of the C code and how that is exposed in Python. It reads a characters from `stdin`, lower-cases it all and then writes them back again. First we need to import the Base overlay to access the IOPs"
   ]
  },
  {
   "cell_type": "code",
   "execution_count": 2,
   "metadata": {},
   "outputs": [],
   "source": [
    "from pynq.overlays.base import BaseOverlay\n",
    "\n",
    "base = BaseOverlay('base.bit')"
   ]
  },
  {
   "cell_type": "markdown",
   "metadata": {},
   "source": [
    "Then we can use one of our new magic cells to compile the program and load it on to the IOP. The first argument is the Microblaze to use and the second parameter is the variable to store the compiled program in."
   ]
  },
  {
   "cell_type": "code",
   "execution_count": 3,
   "metadata": {},
   "outputs": [],
   "source": [
    "%%microblaze_functions base.PMODB\n",
    "\n",
    "void lower_case() {\n",
    "        char data;\n",
    "        while (1) {\n",
    "            read(STDIN_FILENO, &data, 1);\n",
    "            data = (char)tolower(data);\n",
    "            write(STDOUT_FILENO, &data, 1);\n",
    "        }\n",
    "}"
   ]
  },
  {
   "cell_type": "markdown",
   "metadata": {},
   "source": [
    "We can now call the function to start the process and communicate using `stdio`. Note that the read and write functions on the input and output streams take binary strings so the Unicode strings will need to be `encode`d or `decode`d."
   ]
  },
  {
   "cell_type": "code",
   "execution_count": 4,
   "metadata": {
    "scrolled": true
   },
   "outputs": [
    {
     "name": "stdout",
     "output_type": "stream",
     "text": [
      "hello, world!\n"
     ]
    }
   ],
   "source": [
    "import time\n",
    "\n",
    "lower_case()\n",
    "\n",
    "test_string = 'HELLO, WORLD!'.encode()\n",
    "lower_case.stdio.write(test_string)\n",
    "time.sleep(1)\n",
    "print(lower_case.stdio.read().decode())"
   ]
  },
  {
   "cell_type": "markdown",
   "metadata": {},
   "source": [
    "## Example 2: `printf` and its variants\n",
    "\n",
    "This example looks at some of the ways of handling and printing strings inside the microblaze code. The most common function is `printf` which, due to its design, is too large to fit in the microblaze code memory. Instead there are a variety of functions that offer restricted subsets of printf. The full list is detailed a [https://www.xilinx.com/support/answers/19592.html]. The two of most use here are `print` which prints a plain string and `xil_printf` which offers non-reentrant printing to stdout without support for floating point numbers. `xil_io.h` should be included for the `xil_printf` and `print` function prototypes.\n",
    "\n",
    "The code below prints a header before starting with `print` and then reads a line of text, character by character, from stdin using `getchar`, echoing the characters with `putchar`. Once a whole line has been read the number of characters in the line is written using `xil_printf`."
   ]
  },
  {
   "cell_type": "code",
   "execution_count": 5,
   "metadata": {},
   "outputs": [],
   "source": [
    "%%microblaze_functions base.ARDUINO\n",
    "#include <stdio.h>\n",
    "#include <xil_io.h>\n",
    "\n",
    "void letter_count() {\n",
    "    print(\"Starting Letter Count\\n\");\n",
    "    while (1) {\n",
    "        int letter_count = 0;\n",
    "        int c = getchar();\n",
    "        while (c != '\\n') {\n",
    "            putchar(c);\n",
    "            c = getchar();\n",
    "            letter_count++;\n",
    "        }\n",
    "        fflush(stdout);\n",
    "        xil_printf(\" (%d letters)\\n\", letter_count);\n",
    "    }\n",
    "\n",
    "}"
   ]
  },
  {
   "cell_type": "code",
   "execution_count": 6,
   "metadata": {},
   "outputs": [
    {
     "name": "stdout",
     "output_type": "stream",
     "text": [
      "Starting Letter Count\n",
      "Hello, World! (13 letters)\n",
      "A really really long string (27 letters)\n",
      "\n"
     ]
    }
   ],
   "source": [
    "import time\n",
    "\n",
    "letter_count()\n",
    "\n",
    "test_string = \"Hello, World!\\nA really really long string\\n\"\n",
    "letter_count.stdio.write(test_string.encode())\n",
    "\n",
    "time.sleep(0.2)\n",
    "print(letter_count.stdio.read().decode())"
   ]
  },
  {
   "cell_type": "markdown",
   "metadata": {},
   "source": [
    "## Example 3: Asynchronous Communication\n",
    "The IOPs have interrupt support on reading so the PS can be idle while waiting for data. The use of `asyncio` allows us to chain the IOPs together using coroutines. This example will feed the result of the lower-case IOP into the input of the counting IOP.\n",
    "\n",
    "As the whole process will happen asynchronously, we use three tasks to feed the data, transfer the data, and print the result. To ensure that interrupts rather than polling is being used we also have a fourth task to print the CPU utilisation periodically throughout the program's execution."
   ]
  },
  {
   "cell_type": "code",
   "execution_count": 7,
   "metadata": {},
   "outputs": [],
   "source": [
    "import asyncio\n",
    "import psutil\n",
    "\n",
    "async def write_data():\n",
    "    for i in range(20):\n",
    "        lower_case.stdio.write(f\"TeSt String {i}\\n\".encode())\n",
    "        await asyncio.sleep(0.5)\n",
    "        \n",
    "async def transfer_data():\n",
    "    while True:\n",
    "        data = await lower_case.stdio.read_async()\n",
    "        letter_count.stdio.write(data)\n",
    "\n",
    "async def read_print():\n",
    "    while True:\n",
    "        data = await letter_count.stdio.read_async()\n",
    "        print(data.decode().strip('\\n'))\n",
    "\n",
    "async def print_cpu_usage():\n",
    "    # Calculate the CPU utilisation by the amount of idle time\n",
    "    # each CPU has had in three second intervals\n",
    "    last_idle = [c.idle for c in psutil.cpu_times(percpu=True)]\n",
    "    while True:\n",
    "        await asyncio.sleep(3)\n",
    "        next_idle = [c.idle for c in psutil.cpu_times(percpu=True)]\n",
    "        usage = [(1-(c2-c1)/3) * 100 for c1,c2 in zip(last_idle, next_idle)]\n",
    "        print(\"CPU Usage: {0:3.2f}%, {1:3.2f}%\".format(*usage))\n",
    "        last_idle = next_idle\n",
    "\n",
    "\n",
    "        \n",
    "write_task = asyncio.ensure_future(write_data())\n",
    "transfer_task = asyncio.ensure_future(transfer_data())\n",
    "read_task = asyncio.ensure_future(read_print())\n",
    "usage_task = asyncio.ensure_future(print_cpu_usage())"
   ]
  },
  {
   "cell_type": "markdown",
   "metadata": {},
   "source": [
    "Finally we can run the event loop until the writing task has finished"
   ]
  },
  {
   "cell_type": "code",
   "execution_count": 8,
   "metadata": {},
   "outputs": [
    {
     "name": "stdout",
     "output_type": "stream",
     "text": [
      "test string 0 (13 letters)\n",
      "test string 1 (13 letters)\n",
      "test string 2 (13 letters)\n",
      "test string 3 (13 letters)\n",
      "test string 4 (13 letters)\n",
      "test string 5 (13 letters)\n",
      "CPU Usage: 5.33%, 2.00%\n",
      "test string 6 (13 letters)\n",
      "test string 7 (13 letters)\n",
      "test string 8 (13 letters)\n",
      "test string 9 (13 letters)\n",
      "test string 10 (14 letters)\n",
      "test string 11 (14 letters)\n",
      "CPU Usage: 3.33%, 2.67%\n",
      "test string 12 (14 letters)\n",
      "test string 13 (14 letters)\n",
      "test string 14 (14 letters)\n",
      "test string 15 (14 letters)\n",
      "test string 16 (14 letters)\n",
      "test string 17 (14 letters)\n",
      "CPU Usage: 9.00%, 7.33%\n",
      "test string 18 (14 letters)\n",
      "test string 19 (14 letters)\n"
     ]
    }
   ],
   "source": [
    "loop = asyncio.get_event_loop()\n",
    "loop.run_until_complete(write_task)"
   ]
  },
  {
   "cell_type": "markdown",
   "metadata": {},
   "source": [
    "To clean up we need to cancel our never-ending tasks to avoid polluting the event loop"
   ]
  },
  {
   "cell_type": "code",
   "execution_count": 9,
   "metadata": {},
   "outputs": [],
   "source": [
    "transfer_task.cancel()\n",
    "read_task.cancel()\n",
    "usage_task.cancel()\n",
    "\n",
    "lower_case.reset()\n",
    "letter_count.reset()"
   ]
  },
  {
   "cell_type": "markdown",
   "metadata": {},
   "source": [
    "## Example 4 - Direct Communication between IOPs\n",
    "\n",
    "As the lowl-leve stream implementation is symmetric (with the exception of the interrupts which are special-cased), it is entirely possible for two IOPs to talk to each other without needing the PS to do anything. The microblaze runtime implements the `open` syscall where the path is the pointer to the base address of the buffer. First we'll recreate our upper-case/counting demo but with the IOP communication done without the PS."
   ]
  },
  {
   "cell_type": "markdown",
   "metadata": {},
   "source": [
    "First we need to allocate some memory for the buffer using the xlnk driver."
   ]
  },
  {
   "cell_type": "code",
   "execution_count": 10,
   "metadata": {},
   "outputs": [],
   "source": [
    "from pynq import Xlnk\n",
    "\n",
    "xlnk = Xlnk()\n",
    "buffer = xlnk.cma_array(shape=0x800, dtype='u1')"
   ]
  },
  {
   "cell_type": "markdown",
   "metadata": {},
   "source": [
    "We are going to pass this pointer into each program as an argument to each function. Using a `void*` pointer means the the physical address of the buffer will be passed to the microblaze."
   ]
  },
  {
   "cell_type": "code",
   "execution_count": 11,
   "metadata": {},
   "outputs": [],
   "source": [
    "%%microblaze_functions base.PMODA\n",
    "#include <fcntl.h>\n",
    "#include <stdio.h>\n",
    "\n",
    "void letter_count(void* buffer) {\n",
    "    print(\"Starting Letter Count\\n\");\n",
    "    char* stream_ptr = buffer;\n",
    "    int fd;\n",
    "    fd = open(stream_ptr, O_RDONLY);\n",
    "    FILE* f = fdopen(fd, \"r\");\n",
    "    xil_printf(\"Using descriptor %d on buffer %d\\n\", fd, (int)stream_ptr);\n",
    "    while (1) {\n",
    "        int letter_count = 0;\n",
    "        int c;\n",
    "        c = getc(f);\n",
    "        while (c != '\\n') {\n",
    "            putchar(c);\n",
    "            c = getc(f);\n",
    "            letter_count++;\n",
    "        }\n",
    "        fflush(stdout);\n",
    "        xil_printf(\" (%d letters)\\n\", letter_count);\n",
    "    }\n",
    "\n",
    "}"
   ]
  },
  {
   "cell_type": "code",
   "execution_count": 12,
   "metadata": {},
   "outputs": [],
   "source": [
    "%%microblaze_functions base.PMODB\n",
    "#include <fcntl.h>\n",
    "#include <stdio.h>\n",
    "\n",
    "void lower_case(void* buffer_ptr) {\n",
    "        char* stream_ptr = buffer_ptr;\n",
    "        char data;\n",
    "        int fd;\n",
    "        fd = open(buffer_ptr, O_WRONLY);\n",
    "        xil_printf(\"Using descriptor %d on buffer %d\\n\", fd, (int)buffer_ptr);\n",
    "        while (1) {\n",
    "            read(STDIN_FILENO, &data, 1);\n",
    "            data = (char)tolower(data);\n",
    "            write(fd, &data, 1);\n",
    "        }\n",
    "}"
   ]
  },
  {
   "cell_type": "markdown",
   "metadata": {},
   "source": [
    "Then we can start our two programs on the same buffer."
   ]
  },
  {
   "cell_type": "code",
   "execution_count": 13,
   "metadata": {},
   "outputs": [],
   "source": [
    "letter_count(buffer)\n",
    "lower_case(buffer)"
   ]
  },
  {
   "cell_type": "markdown",
   "metadata": {},
   "source": [
    "We can then base our string into the lower microblaze and read the result back from the count program without having to do any data transfer in the PS."
   ]
  },
  {
   "cell_type": "code",
   "execution_count": 14,
   "metadata": {},
   "outputs": [
    {
     "name": "stdout",
     "output_type": "stream",
     "text": [
      "Starting Letter Count\n",
      "Using descriptor 4 on buffer 914644992\n",
      "hello, world (12 letters)\n",
      "\n"
     ]
    }
   ],
   "source": [
    "lower_case.stdio.write(b'Hello, World\\n')\n",
    "time.sleep(0.2)\n",
    "print(letter_count.stdio.read().decode())"
   ]
  },
  {
   "cell_type": "markdown",
   "metadata": {},
   "source": [
    "We can also read the debug information being printed from the lower program as well."
   ]
  },
  {
   "cell_type": "code",
   "execution_count": 15,
   "metadata": {},
   "outputs": [
    {
     "name": "stdout",
     "output_type": "stream",
     "text": [
      "b'Using descriptor 4 on buffer 914644992\\n'\n"
     ]
    }
   ],
   "source": [
    "print(lower_case.stdio.read())"
   ]
  },
  {
   "cell_type": "markdown",
   "metadata": {},
   "source": [
    "Unlike other microblaze programs, any which touch the DDR memory need to be closed properly to otherwise invalid transactions can occur when the bitstream is reprogrammed leading to the PS interconnect in an ill-defined state and many hours spent debugging. We can also take this opportunity to free the Xlnk buffer."
   ]
  },
  {
   "cell_type": "code",
   "execution_count": 16,
   "metadata": {},
   "outputs": [],
   "source": [
    "lower_case.reset()\n",
    "letter_count.reset()\n",
    "buffer.close()"
   ]
  },
  {
   "cell_type": "markdown",
   "metadata": {},
   "source": [
    "## Example 5 - Analog and Digital I/O\n",
    "\n",
    "The I/O library is divided into parts - a wrapper around device drivers usable with any microblaze system and an I/O switch-based library for the PMOD and Arduino IOPs which configures the switch based on what is requested. The common library lives in `mbio.h` and contains a typedef for each type of peripheral supported along with C functions for interacting with it. The IO switch library lives in `iop.h` and provides a set of methods for connecting peripherals to specific output pins. The result is a handle which can then be used with the common library to actually perform the I/O.\n",
    "\n",
    "As an example lets create an example which flashes an LED and uses the following APIs\n",
    "\n",
    "```C\n",
    "gpio gpio_open_iop_grove(unsigned char port, unsigned char wire);\n",
    "\n",
    "void gpio_set_direction(gpio dev, int direction);\n",
    "void gpio_write(gpio dev, int val);\n",
    "```"
   ]
  },
  {
   "cell_type": "code",
   "execution_count": 17,
   "metadata": {},
   "outputs": [],
   "source": [
    "%%microblaze_functions base.PMODA\n",
    "#include <iop.h>\n",
    "\n",
    "void led_flash() {\n",
    "    // Connect to an LED attached to the first pin on G2\n",
    "    gpio led = gpio_open_iop_grove(G2, 0);\n",
    "    gpio_set_direction(led, GPIO_OUT);\n",
    "    int state = 0;\n",
    "    while (1) {\n",
    "        gpio_write(led, state);\n",
    "        delay(500);\n",
    "        state = !state;\n",
    "    }\n",
    "}"
   ]
  },
  {
   "cell_type": "markdown",
   "metadata": {},
   "source": [
    "We can now start the flashing program."
   ]
  },
  {
   "cell_type": "code",
   "execution_count": 18,
   "metadata": {},
   "outputs": [],
   "source": [
    "led_flash()"
   ]
  },
  {
   "cell_type": "markdown",
   "metadata": {},
   "source": [
    "And reset the microblaze to stop the flashing and prepare for another program to be executed."
   ]
  },
  {
   "cell_type": "code",
   "execution_count": 19,
   "metadata": {},
   "outputs": [],
   "source": [
    "led_flash.reset()"
   ]
  },
  {
   "cell_type": "markdown",
   "metadata": {},
   "source": [
    "Analog I/O is currently specific to the Arduino header which has six analog inputs split across 4 grove connectors in the standard shield. The analog API looks very similar to the GPIO API. There are additional methods which can be used to read the raw value explained in the Analog and GPIO notebook.\n",
    "\n",
    "```C\n",
    "analog analog_open_iop_grove(unsigned char port, unsigned char wire);\n",
    "\n",
    "float analog_read(analog device);\n",
    "```"
   ]
  },
  {
   "cell_type": "code",
   "execution_count": 20,
   "metadata": {},
   "outputs": [],
   "source": [
    "%%microblaze_functions base.ARDUINO\n",
    "#include <iop.h>\n",
    "\n",
    "void read_adc(float* values, int number) {\n",
    "    analog device = analog_open_iop_grove(A1, 0);\n",
    "    for (int i = 0; i < number; ++i) {\n",
    "        float data = analog_read(device);\n",
    "        values[i] = data;\n",
    "        delay(1000);\n",
    "    }\n",
    "}"
   ]
  },
  {
   "cell_type": "markdown",
   "metadata": {},
   "source": [
    "We can now read 10 values from the ADC."
   ]
  },
  {
   "cell_type": "code",
   "execution_count": 21,
   "metadata": {},
   "outputs": [
    {
     "name": "stdout",
     "output_type": "stream",
     "text": [
      "[3.271096706390381, 3.2713987827301025, 3.2707443237304688, 3.2213973999023438, 2.2173385620117188, 1.7152587175369263, 1.438513159751892, 1.1690185070037842, 0.9079330563545227, 0.6375823616981506]\n"
     ]
    }
   ],
   "source": [
    "result = [0.0] * 10\n",
    "read_adc(result, 10)\n",
    "print(result)"
   ]
  },
  {
   "cell_type": "code",
   "execution_count": 22,
   "metadata": {},
   "outputs": [],
   "source": [
    "read_adc.reset()"
   ]
  },
  {
   "cell_type": "markdown",
   "metadata": {},
   "source": [
    "## Example 6 - Modules\n",
    "\n",
    "To support more complex devices, the `ipythonmicroblaze` package uses _modules_ to extend the base functionality. A couple of example modules are included in this package but the plan is that many more are made available as additional packages.\n",
    "\n",
    "All available modules are listed in the `Modules` dict."
   ]
  },
  {
   "cell_type": "code",
   "execution_count": 23,
   "metadata": {},
   "outputs": [
    {
     "data": {
      "text/plain": [
       "dict_keys(['pmod_oled', 'ledbar'])"
      ]
     },
     "execution_count": 23,
     "metadata": {},
     "output_type": "execute_result"
    }
   ],
   "source": [
    "ipmb.Modules.keys()"
   ]
  },
  {
   "cell_type": "markdown",
   "metadata": {},
   "source": [
    "Each modules consists of at least a header file which can be retrieved from python to expose the API. Including the header in your project will automatically pull in the correct sources and libraries."
   ]
  },
  {
   "cell_type": "code",
   "execution_count": 24,
   "metadata": {},
   "outputs": [
    {
     "name": "stdout",
     "output_type": "stream",
     "text": [
      "#pragma once\n",
      "\n",
      "#include <mbio.h>\n",
      "\n",
      "typedef unsigned int ledbar;\n",
      "\n",
      "ledbar ledbar_open_grove(unsigned char port);\n",
      "ledbar ledbar_open(gpio data, gpio clk);\n",
      "void ledbar_set_level(ledbar, unsigned char i);\n",
      "void ledbar_set_data(ledbar, const unsigned char* data);\n",
      "\n",
      "\n"
     ]
    }
   ],
   "source": [
    "print(ipmb.Modules['ledbar'].header)"
   ]
  },
  {
   "cell_type": "markdown",
   "metadata": {},
   "source": [
    "We can now use the `ledbar` module in one of our example programs. By convention the main API header is named the same as the module name."
   ]
  },
  {
   "cell_type": "code",
   "execution_count": 25,
   "metadata": {},
   "outputs": [],
   "source": [
    "%%microblaze_functions base.ARDUINO\n",
    "#include <ledbar.h>\n",
    "#include <iop.h>\n",
    "\n",
    "void set_ledbar(const unsigned char* data) {\n",
    "    ledbar g1 = ledbar_open_grove(G1);\n",
    "    ledbar_set_data(g1, data);\n",
    "}"
   ]
  },
  {
   "cell_type": "markdown",
   "metadata": {},
   "source": [
    "We can now set the LED bar to show an alternating pattern. As we are not using a `void*` pointer the data will be packed and copied over."
   ]
  },
  {
   "cell_type": "code",
   "execution_count": 26,
   "metadata": {},
   "outputs": [],
   "source": [
    "set_ledbar(b'\\xFF\\x00' * 5)"
   ]
  },
  {
   "cell_type": "code",
   "execution_count": 27,
   "metadata": {},
   "outputs": [],
   "source": [
    "set_ledbar.reset()"
   ]
  },
  {
   "cell_type": "markdown",
   "metadata": {},
   "source": [
    "## Example 7 - Offloaded Computation\n",
    "\n",
    "Now we have snippets for both our LED bar and ADC/temperature sensor we can combine them into a single program that reads the voltage and displays it on the LED bar. To determine what the levels should be we pass in 10 float values at startup that correspond to the threshold voltages for each LED."
   ]
  },
  {
   "cell_type": "code",
   "execution_count": 28,
   "metadata": {},
   "outputs": [],
   "source": [
    "%%microblaze_functions base.ARDUINO\n",
    "#include <iop.h>\n",
    "#include <ledbar.h>\n",
    "\n",
    "void led_adc(const float* thresholds) {\n",
    "    analog sensor = analog_open_iop_grove(A1, 0);\n",
    "    ledbar output = ledbar_open_grove(G1);\n",
    "\n",
    "    while (1) {\n",
    "        float voltage = analog_read(sensor);\n",
    "        int val = 0;\n",
    "        for (int i = 0; i < 10; ++i) {\n",
    "            if (voltage > thresholds[i]) val = i + 1;\n",
    "        }\n",
    "        ledbar_set_level(output, val);\n",
    "    }\n",
    "}"
   ]
  },
  {
   "cell_type": "code",
   "execution_count": 29,
   "metadata": {},
   "outputs": [],
   "source": [
    "led_adc([0.3 + 0.3 * i for i in range(10)])"
   ]
  },
  {
   "cell_type": "code",
   "execution_count": 30,
   "metadata": {},
   "outputs": [],
   "source": [
    "led_adc.reset()"
   ]
  }
 ],
 "metadata": {
  "kernelspec": {
   "display_name": "Python 3",
   "language": "python",
   "name": "python3"
  },
  "language_info": {
   "codemirror_mode": {
    "name": "ipython",
    "version": 3
   },
   "file_extension": ".py",
   "mimetype": "text/x-python",
   "name": "python",
   "nbconvert_exporter": "python",
   "pygments_lexer": "ipython3",
   "version": "3.6.0"
  }
 },
 "nbformat": 4,
 "nbformat_minor": 2
}
