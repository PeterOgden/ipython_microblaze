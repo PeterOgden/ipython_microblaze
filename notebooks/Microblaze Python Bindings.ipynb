{
 "cells": [
  {
   "cell_type": "markdown",
   "metadata": {},
   "source": [
    "# Microblaze Python Bindings\n",
    "\n",
    "In addition to the `%%microblaze` magic there is also a set of Python bindings for the core API. These bindings are designed to provide an easy to use way of making use of the APIs with the full functionality of Python available. As the API is as close to identical as possible to the C API, any performance critical code can be moved to C with minimal effort.\n",
    "\n",
    "The two classes are `MbioBinding` which provides just the core `mbio.h` functions and `IopSwitchBinding` which provides the additional functionality from the `iop_switch.h` functions for use with the PMOD and Arduino IOPs.\n",
    "\n",
    "The constructors for both take the IOP to run on and optionally an array of modules that can provide additional functionality. For this example we are going to concentrate on the `IopSwitchBinding` as we are using the Base overlay PMOD and Arduino IOPs.\n",
    "\n",
    "First step is to load the Base Overlay and create an instance of `IopSwitchBinding` on PMODA"
   ]
  },
  {
   "cell_type": "code",
   "execution_count": 1,
   "metadata": {},
   "outputs": [
    {
     "data": {
      "application/javascript": [
       "\n",
       "require(['notebook/js/codecell'], function(codecell) {\n",
       "  codecell.CodeCell.options_default.highlight_modes['magic_text/x-csrc'] = {'reg':[/^%%microblaze/]};\n",
       "  Jupyter.notebook.events.one('kernel_ready.Kernel', function(){\n",
       "      Jupyter.notebook.get_cells().map(function(cell){\n",
       "          if (cell.cell_type == 'code'){ cell.auto_highlight(); } }) ;\n",
       "  });\n",
       "});\n"
      ]
     },
     "metadata": {},
     "output_type": "display_data"
    }
   ],
   "source": [
    "from pynq.overlays.base import BaseOverlay\n",
    "from ipython_microblaze import IopSwitchBinding\n",
    "\n",
    "base = BaseOverlay('base.bit')\n",
    "iop = IopSwitchBinding(base.PMODA)"
   ]
  },
  {
   "cell_type": "markdown",
   "metadata": {},
   "source": [
    "We can now inspect the `iop` variable to find all of the functions that have been wrapped."
   ]
  },
  {
   "cell_type": "code",
   "execution_count": 2,
   "metadata": {},
   "outputs": [
    {
     "data": {
      "text/plain": [
       "['G1',\n",
       " 'G2',\n",
       " 'G3',\n",
       " 'G4',\n",
       " 'GPIO_IN',\n",
       " 'GPIO_OUT',\n",
       " '__class__',\n",
       " '__delattr__',\n",
       " '__dict__',\n",
       " '__dir__',\n",
       " '__doc__',\n",
       " '__eq__',\n",
       " '__format__',\n",
       " '__ge__',\n",
       " '__getattribute__',\n",
       " '__gt__',\n",
       " '__hash__',\n",
       " '__init__',\n",
       " '__init_subclass__',\n",
       " '__le__',\n",
       " '__lt__',\n",
       " '__module__',\n",
       " '__ne__',\n",
       " '__new__',\n",
       " '__reduce__',\n",
       " '__reduce_ex__',\n",
       " '__repr__',\n",
       " '__setattr__',\n",
       " '__sizeof__',\n",
       " '__str__',\n",
       " '__subclasshook__',\n",
       " '__weakref__',\n",
       " '_build_constants',\n",
       " '_build_functions',\n",
       " '_mb',\n",
       " '_populate_typedefs',\n",
       " 'delay',\n",
       " 'delayMicroseconds',\n",
       " 'iop_switch_analog_grove',\n",
       " 'iop_switch_analog_raw',\n",
       " 'iop_switch_gpio_grove',\n",
       " 'iop_switch_gpio_raw',\n",
       " 'iop_switch_i2c_grove',\n",
       " 'iop_switch_i2c_raw',\n",
       " 'iop_switch_init',\n",
       " 'iop_switch_pwm_grove',\n",
       " 'iop_switch_pwm_raw',\n",
       " 'mb_adc_num_devices',\n",
       " 'mb_adc_open',\n",
       " 'mb_adc_range',\n",
       " 'mb_adc_read',\n",
       " 'mb_adc_read_raw',\n",
       " 'mb_adc_vref',\n",
       " 'mb_gpio_num_devices',\n",
       " 'mb_gpio_open_all',\n",
       " 'mb_gpio_open_pin',\n",
       " 'mb_gpio_open_range',\n",
       " 'mb_gpio_read',\n",
       " 'mb_gpio_set_direction',\n",
       " 'mb_gpio_write',\n",
       " 'mb_i2c_num_devices',\n",
       " 'mb_i2c_open',\n",
       " 'mb_i2c_read',\n",
       " 'mb_i2c_write',\n",
       " 'mb_io_init',\n",
       " 'mb_set_delay_timer',\n",
       " 'mb_spi_num_devices',\n",
       " 'mb_spi_transfer',\n",
       " 'mb_timer_delay_us',\n",
       " 'mb_timer_num_devices',\n",
       " 'mb_timer_open',\n",
       " 'mb_timer_pwm_generate',\n",
       " 'mb_timer_pwm_stop',\n",
       " 'mp_spi_open',\n",
       " 'reset',\n",
       " 'visitor']"
      ]
     },
     "execution_count": 2,
     "metadata": {},
     "output_type": "execute_result"
    }
   ],
   "source": [
    "dir(iop)"
   ]
  },
  {
   "cell_type": "markdown",
   "metadata": {},
   "source": [
    "You can see that all of the functions from the other notebooks are here along with the enum constants. We can now use these functions to turn on an LED attached to G2"
   ]
  },
  {
   "cell_type": "code",
   "execution_count": 3,
   "metadata": {},
   "outputs": [],
   "source": [
    "iop.iop_switch_init()\n",
    "led = iop.iop_switch_gpio_grove(iop.G2, 0)\n",
    "iop.mb_gpio_set_direction(led, iop.GPIO_OUT)\n",
    "iop.mb_gpio_write(led, 1)"
   ]
  },
  {
   "cell_type": "markdown",
   "metadata": {},
   "source": [
    "To make the API slightly easier to use in python, each `typedef` in the original source is wrapped as a custom python class. Any methods with that type name as prefix are then added as member functions. Using this API we can write a flashing script in a more python-like way"
   ]
  },
  {
   "cell_type": "code",
   "execution_count": 4,
   "metadata": {},
   "outputs": [],
   "source": [
    "import time\n",
    "for _ in range(10):\n",
    "    led.write(0)\n",
    "    time.sleep(0.2)\n",
    "    led.write(1)\n",
    "    time.sleep(0.2)"
   ]
  },
  {
   "cell_type": "markdown",
   "metadata": {},
   "source": [
    "A more complex API is that of the I2C controller which has to send and receive variable strings of bytes. In Python these are `bytes` objects for const strings or `bytearrays` for non-const strings. Other array types of size 1-byte may also work but haven't been thoroughly tested yet. Copying the example from a previous notebook, let's read from an I2C attached ADC. The original C code looked like:\n",
    "\n",
    "```C\n",
    "#define ADDRESS 0x50\n",
    "\n",
    "i2c bus = i2c_connect_grove(G4);\n",
    "unsigned char data[2];\n",
    "// Setup the device\n",
    "data[0] = 0x02;\n",
    "data[1] = 0x20;\n",
    "i2c_write(bus, ADDRESS, data, 2);\n",
    "// Read the value\n",
    "data[0] = 0x00;\n",
    "i2c_write(bus, ADDRESS, data, 1);\n",
    "i2c_read(bus, ADDRESS, data, 2);\n",
    "```"
   ]
  },
  {
   "cell_type": "code",
   "execution_count": 5,
   "metadata": {},
   "outputs": [
    {
     "data": {
      "text/plain": [
       "bytearray(b'\\x00N')"
      ]
     },
     "execution_count": 5,
     "metadata": {},
     "output_type": "execute_result"
    }
   ],
   "source": [
    "ADDRESS = 0x50\n",
    "\n",
    "bus = iop.iop_switch_i2c_grove(iop.G4)\n",
    "data = bytearray(b'\\x02\\x20')\n",
    "bus.write(ADDRESS, data, 2)\n",
    "data[0] = 0x00\n",
    "bus.write(ADDRESS, data, 1)\n",
    "bus.read(ADDRESS, data, 2)\n",
    "\n",
    "data"
   ]
  },
  {
   "cell_type": "markdown",
   "metadata": {},
   "source": [
    "More complex peripherals are exposed in C as modules. Modules can be added into the set of bindings by passing the names as an additional array argument. For this example we are going to use the Grove LED bar library as it comes with the ipython_microblaze package. Before changing the bindings we need to reset the microblaze."
   ]
  },
  {
   "cell_type": "code",
   "execution_count": 6,
   "metadata": {},
   "outputs": [],
   "source": [
    "iop.reset()\n",
    "iop = IopSwitchBinding(base.PMODA, ['ledbar'])"
   ]
  },
  {
   "cell_type": "markdown",
   "metadata": {},
   "source": [
    "If we now look at the members of the `iop` variable again we will see that the `ledbar_*` functions now appear."
   ]
  },
  {
   "cell_type": "code",
   "execution_count": 7,
   "metadata": {},
   "outputs": [
    {
     "data": {
      "text/plain": [
       "['G1',\n",
       " 'G2',\n",
       " 'G3',\n",
       " 'G4',\n",
       " 'GPIO_IN',\n",
       " 'GPIO_OUT',\n",
       " '__class__',\n",
       " '__delattr__',\n",
       " '__dict__',\n",
       " '__dir__',\n",
       " '__doc__',\n",
       " '__eq__',\n",
       " '__format__',\n",
       " '__ge__',\n",
       " '__getattribute__',\n",
       " '__gt__',\n",
       " '__hash__',\n",
       " '__init__',\n",
       " '__init_subclass__',\n",
       " '__le__',\n",
       " '__lt__',\n",
       " '__module__',\n",
       " '__ne__',\n",
       " '__new__',\n",
       " '__reduce__',\n",
       " '__reduce_ex__',\n",
       " '__repr__',\n",
       " '__setattr__',\n",
       " '__sizeof__',\n",
       " '__str__',\n",
       " '__subclasshook__',\n",
       " '__weakref__',\n",
       " '_build_constants',\n",
       " '_build_functions',\n",
       " '_mb',\n",
       " '_populate_typedefs',\n",
       " 'delay',\n",
       " 'delayMicroseconds',\n",
       " 'iop_switch_analog_grove',\n",
       " 'iop_switch_analog_raw',\n",
       " 'iop_switch_gpio_grove',\n",
       " 'iop_switch_gpio_raw',\n",
       " 'iop_switch_i2c_grove',\n",
       " 'iop_switch_i2c_raw',\n",
       " 'iop_switch_init',\n",
       " 'iop_switch_pwm_grove',\n",
       " 'iop_switch_pwm_raw',\n",
       " 'ledbar_open',\n",
       " 'ledbar_open_grove',\n",
       " 'ledbar_set_data',\n",
       " 'ledbar_set_level',\n",
       " 'mb_adc_num_devices',\n",
       " 'mb_adc_open',\n",
       " 'mb_adc_range',\n",
       " 'mb_adc_read',\n",
       " 'mb_adc_read_raw',\n",
       " 'mb_adc_vref',\n",
       " 'mb_gpio_num_devices',\n",
       " 'mb_gpio_open_all',\n",
       " 'mb_gpio_open_pin',\n",
       " 'mb_gpio_open_range',\n",
       " 'mb_gpio_read',\n",
       " 'mb_gpio_set_direction',\n",
       " 'mb_gpio_write',\n",
       " 'mb_i2c_num_devices',\n",
       " 'mb_i2c_open',\n",
       " 'mb_i2c_read',\n",
       " 'mb_i2c_write',\n",
       " 'mb_io_init',\n",
       " 'mb_set_delay_timer',\n",
       " 'mb_spi_num_devices',\n",
       " 'mb_spi_transfer',\n",
       " 'mb_timer_delay_us',\n",
       " 'mb_timer_num_devices',\n",
       " 'mb_timer_open',\n",
       " 'mb_timer_pwm_generate',\n",
       " 'mb_timer_pwm_stop',\n",
       " 'mp_spi_open',\n",
       " 'reset',\n",
       " 'visitor']"
      ]
     },
     "execution_count": 7,
     "metadata": {},
     "output_type": "execute_result"
    }
   ],
   "source": [
    "dir(iop)"
   ]
  },
  {
   "cell_type": "markdown",
   "metadata": {},
   "source": [
    "We can now use this API to make an increasing pattern appear on the bar. Same as for the `mb_*` typedefs, the `ledbar_` functions all appear as members of an `ledbar` class."
   ]
  },
  {
   "cell_type": "code",
   "execution_count": 8,
   "metadata": {},
   "outputs": [],
   "source": [
    "iop.iop_switch_init()\n",
    "bar = iop.ledbar_open_grove(iop.G1)\n",
    "for i in range(11):\n",
    "    bar.set_level(i)\n",
    "    time.sleep(0.5)"
   ]
  },
  {
   "cell_type": "markdown",
   "metadata": {},
   "source": [
    "The bindings are generated dynamically from the C sources and it possible to use other files as the input. The `MicroblazeRPC` class exposes this functionality for general sources. The current restrictions on functions used are:\n",
    "\n",
    " * No structs or unions in the interface\n",
    " * Only const and non-const char* pointer arguments\n",
    " * No pointer return types\n",
    " * Typedefs for classes must resolve to basic types\n",
    "\n",
    "Subject to these restrictions, any code can be run in this environment for experimentation and debugging."
   ]
  }
 ],
 "metadata": {
  "kernelspec": {
   "display_name": "Python 3",
   "language": "python",
   "name": "python3"
  },
  "language_info": {
   "codemirror_mode": {
    "name": "ipython",
    "version": 3
   },
   "file_extension": ".py",
   "mimetype": "text/x-python",
   "name": "python",
   "nbconvert_exporter": "python",
   "pygments_lexer": "ipython3",
   "version": "3.6.0"
  }
 },
 "nbformat": 4,
 "nbformat_minor": 2
}
