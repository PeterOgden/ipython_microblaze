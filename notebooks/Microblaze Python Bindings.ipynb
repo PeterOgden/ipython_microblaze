{
 "cells": [
  {
   "cell_type": "markdown",
   "metadata": {},
   "source": [
    "# Microblaze RPC Bindings\n",
    "\n",
    "In addition to the `%%microblaze` magic there is also a set of Python bindings for the core API. These bindings are designed to provide an easy to use way of making use of the APIs with the full functionality of Python available. As the API is as close to identical as possible to the C API, any performance critical code can be moved to C with minimal effort.\n",
    "\n",
    "The two classes are `MbioBinding` which provides just the core `mbio.h` functions and `IopSwitchBinding` which provides the additional functionality from the `iop_switch.h` functions for use with the PMOD and Arduino IOPs.\n",
    "\n",
    "The constructors for both take the IOP to run on and optionally an array of modules that can provide additional functionality. For this example we are going to concentrate on the `IopSwitchBinding` as we are using the Base overlay PMOD and Arduino IOPs.\n",
    "\n",
    "First step is to load the Base Overlay and create an instance of `IopSwitchBinding` on PMODA"
   ]
  },
  {
   "cell_type": "code",
   "execution_count": 8,
   "metadata": {},
   "outputs": [],
   "source": [
    "from pynq.overlays.base import BaseOverlay\n",
    "from ipython_microblaze import IopRPC\n",
    "\n",
    "base = BaseOverlay('base.bit')\n",
    "iop = IopRPC(base.PMODA)"
   ]
  },
  {
   "cell_type": "markdown",
   "metadata": {},
   "source": [
    "We can now inspect the `iop` variable to find all of the functions that have been wrapped."
   ]
  },
  {
   "cell_type": "code",
   "execution_count": 9,
   "metadata": {},
   "outputs": [
    {
     "data": {
      "text/plain": [
       "['G1',\n",
       " 'G2',\n",
       " 'G3',\n",
       " 'G4',\n",
       " 'GPIO_IN',\n",
       " 'GPIO_OUT',\n",
       " '__class__',\n",
       " '__delattr__',\n",
       " '__dict__',\n",
       " '__dir__',\n",
       " '__doc__',\n",
       " '__eq__',\n",
       " '__format__',\n",
       " '__ge__',\n",
       " '__getattribute__',\n",
       " '__gt__',\n",
       " '__hash__',\n",
       " '__init__',\n",
       " '__init_subclass__',\n",
       " '__le__',\n",
       " '__lt__',\n",
       " '__module__',\n",
       " '__ne__',\n",
       " '__new__',\n",
       " '__reduce__',\n",
       " '__reduce_ex__',\n",
       " '__repr__',\n",
       " '__setattr__',\n",
       " '__sizeof__',\n",
       " '__str__',\n",
       " '__subclasshook__',\n",
       " '__weakref__',\n",
       " '_build_constants',\n",
       " '_build_functions',\n",
       " '_mb',\n",
       " '_populate_typedefs',\n",
       " '_rpc_stream',\n",
       " 'analog_num_devices',\n",
       " 'analog_open',\n",
       " 'analog_open_iop_grove',\n",
       " 'analog_open_iop_pin',\n",
       " 'analog_range',\n",
       " 'analog_read',\n",
       " 'analog_read_raw',\n",
       " 'analog_vref',\n",
       " 'delay',\n",
       " 'delayMicroseconds',\n",
       " 'gpio_num_devices',\n",
       " 'gpio_open_all',\n",
       " 'gpio_open_iop_grove',\n",
       " 'gpio_open_iop_pin',\n",
       " 'gpio_open_pin',\n",
       " 'gpio_open_range',\n",
       " 'gpio_read',\n",
       " 'gpio_set_direction',\n",
       " 'gpio_write',\n",
       " 'i2c_num_devices',\n",
       " 'i2c_open',\n",
       " 'i2c_open_iop_grove',\n",
       " 'i2c_open_iop_pins',\n",
       " 'i2c_read',\n",
       " 'i2c_write',\n",
       " 'mp_spi_open',\n",
       " 'reset',\n",
       " 'spi_num_devices',\n",
       " 'spi_transfer',\n",
       " 'timer_delay_us',\n",
       " 'timer_num_devices',\n",
       " 'timer_open',\n",
       " 'timer_open_iop_grove',\n",
       " 'timer_open_iop_pin',\n",
       " 'timer_pwm_generate',\n",
       " 'timer_pwm_stop',\n",
       " 'timer_set_as_default',\n",
       " 'visitor']"
      ]
     },
     "execution_count": 9,
     "metadata": {},
     "output_type": "execute_result"
    }
   ],
   "source": [
    "dir(iop)"
   ]
  },
  {
   "cell_type": "markdown",
   "metadata": {},
   "source": [
    "You can see that all of the functions from the other notebooks are here along with the enum constants. We can now use these functions to turn on an LED attached to G2"
   ]
  },
  {
   "cell_type": "code",
   "execution_count": 10,
   "metadata": {},
   "outputs": [],
   "source": [
    "led = iop.gpio_open_iop_grove(iop.G2, 0)\n",
    "iop.gpio_set_direction(led, iop.GPIO_OUT)\n",
    "iop.gpio_write(led, 1)"
   ]
  },
  {
   "cell_type": "markdown",
   "metadata": {},
   "source": [
    "To make the API slightly easier to use in python, each `typedef` in the original source is wrapped as a custom python class. Any methods with that type name as prefix are then added as member functions. Using this API we can write a flashing script in a more python-like way"
   ]
  },
  {
   "cell_type": "code",
   "execution_count": 4,
   "metadata": {},
   "outputs": [],
   "source": [
    "import time\n",
    "for _ in range(10):\n",
    "    led.write(0)\n",
    "    time.sleep(0.2)\n",
    "    led.write(1)\n",
    "    time.sleep(0.2)"
   ]
  },
  {
   "cell_type": "markdown",
   "metadata": {},
   "source": [
    "## Pointer arguments\n",
    "\n",
    "A more complex API is that of the I2C controller which has to send and receive variable strings of bytes. In Python these are `bytes` objects for const strings or `bytearrays` for non-const strings. Other array types of size 1-byte may also work but haven't been thoroughly tested yet. Copying the example from a previous notebook, let's read from an I2C attached ADC. The original C code looked like:\n",
    "\n",
    "```C\n",
    "#define ADDRESS 0x50\n",
    "\n",
    "i2c bus = i2c_connect_grove(G4);\n",
    "unsigned char data[2];\n",
    "// Setup the device\n",
    "data[0] = 0x02;\n",
    "data[1] = 0x20;\n",
    "i2c_write(bus, ADDRESS, data, 2);\n",
    "// Read the value\n",
    "data[0] = 0x00;\n",
    "i2c_write(bus, ADDRESS, data, 1);\n",
    "i2c_read(bus, ADDRESS, data, 2);\n",
    "```"
   ]
  },
  {
   "cell_type": "code",
   "execution_count": 5,
   "metadata": {},
   "outputs": [
    {
     "data": {
      "text/plain": [
       "bytearray(b'\\x00P')"
      ]
     },
     "execution_count": 5,
     "metadata": {},
     "output_type": "execute_result"
    }
   ],
   "source": [
    "ADDRESS = 0x50\n",
    "\n",
    "bus = iop.i2c_open_iop_grove(iop.G4)\n",
    "data = bytearray(b'\\x02\\x20')\n",
    "bus.write(ADDRESS, data, 2)\n",
    "data[0] = 0x00\n",
    "bus.write(ADDRESS, data, 1)\n",
    "bus.read(ADDRESS, data, 2)\n",
    "\n",
    "data"
   ]
  },
  {
   "cell_type": "markdown",
   "metadata": {},
   "source": [
    "More complex peripherals are exposed in C as modules. Modules can be added into the set of bindings by passing the names as an additional array argument. For this example we are going to use the Grove LED bar library as it comes with the ipython_microblaze package. Before changing the bindings we need to reset the microblaze."
   ]
  },
  {
   "cell_type": "code",
   "execution_count": 6,
   "metadata": {},
   "outputs": [],
   "source": [
    "iop.reset()\n",
    "iop = IopRPC(base.PMODA, ['ledbar'])"
   ]
  },
  {
   "cell_type": "markdown",
   "metadata": {},
   "source": [
    "If we now look at the members of the `iop` variable again we will see that the `ledbar_*` functions now appear."
   ]
  },
  {
   "cell_type": "code",
   "execution_count": 7,
   "metadata": {},
   "outputs": [
    {
     "data": {
      "text/plain": [
       "['G1',\n",
       " 'G2',\n",
       " 'G3',\n",
       " 'G4',\n",
       " 'GPIO_IN',\n",
       " 'GPIO_OUT',\n",
       " '__class__',\n",
       " '__delattr__',\n",
       " '__dict__',\n",
       " '__dir__',\n",
       " '__doc__',\n",
       " '__eq__',\n",
       " '__format__',\n",
       " '__ge__',\n",
       " '__getattribute__',\n",
       " '__gt__',\n",
       " '__hash__',\n",
       " '__init__',\n",
       " '__init_subclass__',\n",
       " '__le__',\n",
       " '__lt__',\n",
       " '__module__',\n",
       " '__ne__',\n",
       " '__new__',\n",
       " '__reduce__',\n",
       " '__reduce_ex__',\n",
       " '__repr__',\n",
       " '__setattr__',\n",
       " '__sizeof__',\n",
       " '__str__',\n",
       " '__subclasshook__',\n",
       " '__weakref__',\n",
       " '_build_constants',\n",
       " '_build_functions',\n",
       " '_mb',\n",
       " '_populate_typedefs',\n",
       " 'analog_num_devices',\n",
       " 'analog_open',\n",
       " 'analog_open_iop_grove',\n",
       " 'analog_open_iop_pin',\n",
       " 'analog_range',\n",
       " 'analog_read',\n",
       " 'analog_read_raw',\n",
       " 'analog_vref',\n",
       " 'delay',\n",
       " 'delayMicroseconds',\n",
       " 'gpio_num_devices',\n",
       " 'gpio_open_all',\n",
       " 'gpio_open_iop_grove',\n",
       " 'gpio_open_iop_pin',\n",
       " 'gpio_open_pin',\n",
       " 'gpio_open_range',\n",
       " 'gpio_read',\n",
       " 'gpio_set_direction',\n",
       " 'gpio_write',\n",
       " 'i2c_num_devices',\n",
       " 'i2c_open',\n",
       " 'i2c_open_iop_grove',\n",
       " 'i2c_open_iop_pins',\n",
       " 'i2c_read',\n",
       " 'i2c_write',\n",
       " 'ledbar_open',\n",
       " 'ledbar_open_grove',\n",
       " 'ledbar_set_data',\n",
       " 'ledbar_set_level',\n",
       " 'mp_spi_open',\n",
       " 'reset',\n",
       " 'spi_num_devices',\n",
       " 'spi_transfer',\n",
       " 'timer_delay_us',\n",
       " 'timer_num_devices',\n",
       " 'timer_open',\n",
       " 'timer_open_iop_grove',\n",
       " 'timer_open_iop_pin',\n",
       " 'timer_pwm_generate',\n",
       " 'timer_pwm_stop',\n",
       " 'timer_set_as_default',\n",
       " 'visitor']"
      ]
     },
     "execution_count": 7,
     "metadata": {},
     "output_type": "execute_result"
    }
   ],
   "source": [
    "dir(iop)"
   ]
  },
  {
   "cell_type": "markdown",
   "metadata": {},
   "source": [
    "We can now use this API to make an increasing pattern appear on the bar. Same as for the `mb_*` typedefs, the `ledbar_` functions all appear as members of an `ledbar` class."
   ]
  },
  {
   "cell_type": "code",
   "execution_count": 8,
   "metadata": {},
   "outputs": [],
   "source": [
    "bar = iop.ledbar_open_grove(iop.G1)\n",
    "for i in range(11):\n",
    "    bar.set_level(i)\n",
    "    time.sleep(0.5)"
   ]
  },
  {
   "cell_type": "markdown",
   "metadata": {},
   "source": [
    "## Custom RPC Functions\n",
    "\n",
    "The bindings are generated dynamically from the C sources and it possible to use other files as the input. The `MicroblazeRPC` class exposes this functionality for general sources. The current restrictions on functions used are:\n",
    "\n",
    " * No structs or unions in the interface\n",
    " * Only const and non-const char* pointer arguments\n",
    " * No pointer return types\n",
    " * Typedefs for classes must resolve to basic types\n",
    " * No printing to stout\n",
    " \n",
    "Subject to these restrictions, any code can be run in this environment for experimentation and debugging.\n",
    "\n",
    "The `MicroblazeRPC` class allows for the construction of RPC interfaces based on any C code that meets these restrictions. Note that only functions with a separate declaration will be pulled into the interface."
   ]
  },
  {
   "cell_type": "code",
   "execution_count": 9,
   "metadata": {},
   "outputs": [
    {
     "data": {
      "text/plain": [
       "['__class__',\n",
       " '__delattr__',\n",
       " '__dict__',\n",
       " '__dir__',\n",
       " '__doc__',\n",
       " '__eq__',\n",
       " '__format__',\n",
       " '__ge__',\n",
       " '__getattribute__',\n",
       " '__gt__',\n",
       " '__hash__',\n",
       " '__init__',\n",
       " '__init_subclass__',\n",
       " '__le__',\n",
       " '__lt__',\n",
       " '__module__',\n",
       " '__ne__',\n",
       " '__new__',\n",
       " '__reduce__',\n",
       " '__reduce_ex__',\n",
       " '__repr__',\n",
       " '__setattr__',\n",
       " '__sizeof__',\n",
       " '__str__',\n",
       " '__subclasshook__',\n",
       " '__weakref__',\n",
       " '_build_constants',\n",
       " '_build_functions',\n",
       " '_mb',\n",
       " '_populate_typedefs',\n",
       " 'add',\n",
       " 'memcpy',\n",
       " 'reset',\n",
       " 'visitor']"
      ]
     },
     "execution_count": 9,
     "metadata": {},
     "output_type": "execute_result"
    }
   ],
   "source": [
    "from ipython_microblaze import MicroblazeRPC\n",
    "\n",
    "program_text = \"\"\"\n",
    "int add(int a, int b);\n",
    "void memcpy(const char* source, char* dest, int length);\n",
    "\n",
    "void memcpy(const char* source, char* dest, int length){\n",
    "    while (length-- > 0) {\n",
    "        *dest++ = *source++;\n",
    "    }\n",
    "}\n",
    "void int_helper(int a, int b, int* c) {\n",
    "    *c = a + b;\n",
    "}\n",
    "\n",
    "int add(int a, int b) {\n",
    "    int result;\n",
    "    int_helper(a, b, &result);\n",
    "    return result;\n",
    "}\n",
    "\"\"\"\n",
    "\n",
    "custom = MicroblazeRPC(base.PMODB, program_text)\n",
    "\n",
    "dir(custom)"
   ]
  },
  {
   "cell_type": "markdown",
   "metadata": {},
   "source": [
    "As can be seen only the `add` and `memcpy` functions have been added to rpc layer. We can now call them as per any of the other examples."
   ]
  },
  {
   "cell_type": "code",
   "execution_count": 10,
   "metadata": {},
   "outputs": [
    {
     "name": "stdout",
     "output_type": "stream",
     "text": [
      "6\n",
      "bytearray(b'\\x00\\x01\\x02\\x03\\x04\\x05\\x06\\x07\\x08\\t\\n\\x0b\\x0c\\r\\x0e\\x0f')\n"
     ]
    }
   ],
   "source": [
    "print(custom.add(2,4))\n",
    "source = bytes(range(16))\n",
    "dest = bytearray(16)\n",
    "\n",
    "custom.memcpy(source, dest, 16)\n",
    "print(dest)"
   ]
  },
  {
   "cell_type": "markdown",
   "metadata": {},
   "source": [
    "To have custom classes created, create a typedef of the class name and prefix all of your methods with that typedef. If the first parameter to the function is of that type then it is used as `self` when called, otherwise the method with be static."
   ]
  },
  {
   "cell_type": "code",
   "execution_count": 11,
   "metadata": {},
   "outputs": [],
   "source": [
    "class_text = \"\"\"\n",
    "typedef int my_type;\n",
    "\n",
    "my_type my_type_construct(int val);\n",
    "int my_type_add(my_type this, int other);\n",
    "\n",
    "my_type my_type_construct(int val) { return val; }\n",
    "int my_type_add(my_type this, int other) { return this + other; }\n",
    "\"\"\"\n",
    "\n",
    "type_rpc = MicroblazeRPC(base.ARDUINO, class_text)"
   ]
  },
  {
   "cell_type": "code",
   "execution_count": 12,
   "metadata": {},
   "outputs": [
    {
     "name": "stdout",
     "output_type": "stream",
     "text": [
      "11\n"
     ]
    }
   ],
   "source": [
    "mine = type_rpc.my_type_construct(4)\n",
    "print(mine.add(7))"
   ]
  },
  {
   "cell_type": "markdown",
   "metadata": {},
   "source": [
    "Note that if you `#include` a file then all functions inside it which meet these guidelines will also be added to the resulting RPC instance. This makes it a convenient way of assembling a set of modules with a small amount of custom code. This approach can also add new methods to the dynamic classes."
   ]
  },
  {
   "cell_type": "code",
   "execution_count": 13,
   "metadata": {},
   "outputs": [],
   "source": [
    "combined_text = \"\"\"\n",
    "#include <ledbar.h>\n",
    "#include <iop.h>\n",
    "\n",
    "void ledbar_clear(ledbar bar);\n",
    "void ledbar_clear(ledbar bar) {\n",
    "    ledbar_set_level(bar, 0);\n",
    "}\n",
    "\"\"\"\n",
    "\n",
    "iop.reset()\n",
    "iop = MicroblazeRPC(base.PMODA, combined_text)"
   ]
  },
  {
   "cell_type": "code",
   "execution_count": 14,
   "metadata": {},
   "outputs": [],
   "source": [
    "bar = iop.ledbar_open_grove(iop.G1)\n",
    "bar.clear()"
   ]
  },
  {
   "cell_type": "markdown",
   "metadata": {},
   "source": [
    "It's advised to keep any module APIs following the guidelines for use with RPC so that other uses can use your module from both Python and C. Over time these restrictions will become less onerous (hopefully)"
   ]
  },
  {
   "cell_type": "code",
   "execution_count": 5,
   "metadata": {},
   "outputs": [
    {
     "data": {
      "text/plain": [
       "1"
      ]
     },
     "execution_count": 5,
     "metadata": {},
     "output_type": "execute_result"
    }
   ],
   "source": [
    "led.val"
   ]
  },
  {
   "cell_type": "code",
   "execution_count": 7,
   "metadata": {},
   "outputs": [
    {
     "data": {
      "text/plain": [
       "array([1016,    2], dtype=uint32)"
      ]
     },
     "execution_count": 7,
     "metadata": {},
     "output_type": "execute_result"
    }
   ],
   "source": [
    "iop._rpc_stream.read_channel.control_array"
   ]
  },
  {
   "cell_type": "code",
   "execution_count": null,
   "metadata": {},
   "outputs": [],
   "source": []
  }
 ],
 "metadata": {
  "kernelspec": {
   "display_name": "Python 3",
   "language": "python",
   "name": "python3"
  },
  "language_info": {
   "codemirror_mode": {
    "name": "ipython",
    "version": 3
   },
   "file_extension": ".py",
   "mimetype": "text/x-python",
   "name": "python",
   "nbconvert_exporter": "python",
   "pygments_lexer": "ipython3",
   "version": "3.6.0"
  }
 },
 "nbformat": 4,
 "nbformat_minor": 2
}
